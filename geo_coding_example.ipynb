{
  "nbformat": 4,
  "nbformat_minor": 0,
  "metadata": {
    "colab": {
      "name": "geo_coding_example.ipynb",
      "provenance": [],
      "collapsed_sections": []
    },
    "kernelspec": {
      "name": "python3",
      "display_name": "Python 3"
    },
    "language_info": {
      "name": "python"
    }
  },
  "cells": [
    {
      "cell_type": "code",
      "source": [
        "from google.colab import drive\n",
        "drive.mount('/content/gdrive')"
      ],
      "metadata": {
        "colab": {
          "base_uri": "https://localhost:8080/"
        },
        "id": "3b_vVLszggLr",
        "outputId": "0da17353-9954-4b85-b226-bacad810b6e7"
      },
      "execution_count": 1,
      "outputs": [
        {
          "output_type": "stream",
          "name": "stdout",
          "text": [
            "Mounted at /content/gdrive\n"
          ]
        }
      ]
    },
    {
      "cell_type": "code",
      "source": [
        "import os\n",
        "os.chdir('/content/gdrive/MyDrive/TPS')"
      ],
      "metadata": {
        "id": "Nj82kMD4gt4L"
      },
      "execution_count": 2,
      "outputs": []
    },
    {
      "cell_type": "code",
      "source": [
        "!pip install folium"
      ],
      "metadata": {
        "id": "uhzB2kswWggS"
      },
      "execution_count": null,
      "outputs": []
    },
    {
      "cell_type": "code",
      "execution_count": 314,
      "metadata": {
        "id": "25gqjTga494D"
      },
      "outputs": [],
      "source": [
        "import folium\n",
        "import numpy as np\n",
        "import matplotlib.pyplot as plt \n",
        "import random \n",
        "\n",
        "class random_generator(object):\n",
        "    def __init__(self,num=20, range_=(0,100), start_point=0):\n",
        "        self.points_x = np.random.uniform(126.734086, 127.269311,size=(num, 1))\n",
        "        self.points_y = np.random.uniform(37.413294,37.715133, size=(num, 1))\n",
        "        self.points = np.hstack((self.points_x, self.points_y))\n",
        "        self.start_point = 0\n",
        "\n",
        "    def visualize(self):\n",
        "        m = create_maposm(self.points[:,0], self.points[:,1])\n",
        "        make_marker(m,self.points[:,0], self.points[:,1])\n",
        "        m\n",
        "\n",
        "\n",
        "    def get_points(self):\n",
        "        return self.points\n",
        "\n",
        "\n",
        "def distance_matric(from_, to_):\n",
        "    return np.sqrt((from_[0]-to_[0])**2 +(from_[1]-to_[1])**2)\n",
        "\n",
        "\n",
        "class environment(object):\n",
        "    def __init__(self, points_obj):\n",
        "        self.points_obj = points_obj\n",
        "        self.points = self.points_obj.get_points()\n",
        "        self.current_position = self.points_obj.start_point\n",
        "        self.state = -np.ones(len(self.points_obj.points)) # initailize with 0 , [0,0...] ,\n",
        "        self.state[self.current_position]=1\n",
        "\n",
        "        self.next_state = self.state\n",
        "        self.history = [self.current_position] \n",
        "        self.reward_history=[]\n",
        "       \n",
        "\n",
        "    def is_done(self): \n",
        "        done_mask = False \n",
        "        if sum(self.state) == len(self.points_obj.points): # 다 돌았다. :\n",
        "            done_mask = True \n",
        "\n",
        "        return done_mask\n",
        "\n",
        "    def reward(self, action):\n",
        "        distance = distance_matric(from_ =self.points[self.current_position], to_= self.points[action])\n",
        "        return -distance \n",
        "    \n",
        "    def reset(self, random_init =True):\n",
        "        self.points_obj = self.points_obj\n",
        "        self.points = self.points_obj.get_points()\n",
        "        self.current_position = self.points_obj.start_point\n",
        "        self.state = -np.ones(len(self.points_obj.points)) # initailize with 0 , [0,0...] ,\n",
        "\n",
        "        if random_init == True :\n",
        "            rand = np.random.randint(0,len(self.points_obj.points))\n",
        "            self.state[rand]=1\n",
        "        else :\n",
        "            self.state[self.current_position]=1\n",
        "\n",
        "        self.next_state = self.state\n",
        "        self.history = [self.current_position] \n",
        "        self.reward_history=[]\n",
        "\n",
        "        return self.state.tolist()\n",
        "\n",
        "    def transition(self, action): \n",
        "        reward = self.reward(action)      \n",
        "        self.current_position = action  \n",
        "        self.state[self.current_position]=1 \n",
        "        self.history.append(self.current_position)\n",
        "        self.reward_history.append(reward)\n",
        "        return [self.state.tolist(), reward,self.is_done()] \n",
        "\n",
        "    def visualize(self,save=0,save_name=None):\n",
        "        m = create_maposm(self.points[:,0], self.points[:,1])\n",
        "        make_marker(m,self.points[:,0], self.points[:,1])\n",
        "        for i in range(len(self.history)-1):\n",
        "            point_1 =self.points_obj.points[self.history[i]]\n",
        "            point_2 = self.points_obj.points[self.history[i+1]]\n",
        "            #draw_line(m, point_1, point_2)\n",
        "            #folium.PolyLine(gen.points[self.history].tolist(), color=\"red\", weight=2.5, opacity=1).add_to(map_1)\n",
        "        if save >0 :\n",
        "            m.save(save_name+\"/image_\"+str(save)+\".png\")\n",
        "        return m \n",
        "\n",
        "\n",
        "    # def visualize_geo(self):\n",
        "    #     point_1 =self.points_obj.points[self.history[i]]\n",
        "    #     point_2 = self.points_obj.points[self.history[i+1]]\n",
        "\n",
        "    #     map_1 = g.Map(location=[np.mean(points_obj.points_y), np.mean(points_obj.points_x[i])])\n",
        "    #     for i in range(len(self.history)):\n",
        "    #             g.Marker([points_obj.points_y[i][0],points_obj.points_x[i][0]],icon = g.Icon(color='green',icon='plus')).add_to(map_1)\n",
        "    #     g.PolyLine(gen.points[history].tolist(), color=\"red\", weight=2.5, opacity=1).add_to(map_1)\n",
        "\n",
        "    #     return map_1\n",
        "\n",
        "\n"
      ]
    },
    {
      "cell_type": "code",
      "source": [
        "rand_gen.points[:,0]"
      ],
      "metadata": {
        "colab": {
          "base_uri": "https://localhost:8080/"
        },
        "id": "BjSP7pCeRBja",
        "outputId": "6ea9d9e4-30af-4a83-a415-3003c542d44c"
      },
      "execution_count": 315,
      "outputs": [
        {
          "output_type": "execute_result",
          "data": {
            "text/plain": [
              "array([127.03664649, 127.02997097, 126.74553628, 126.9210124 ,\n",
              "       127.11308947, 126.93957164, 127.25029527, 126.81132404,\n",
              "       126.98845629, 127.10381769, 127.22965687, 127.067438  ,\n",
              "       126.78630944, 126.75286547, 127.19012983, 126.77293921,\n",
              "       127.2227143 , 126.90118071, 126.91342792, 126.84661037])"
            ]
          },
          "metadata": {},
          "execution_count": 315
        }
      ]
    },
    {
      "cell_type": "code",
      "source": [
        "gen.points_x"
      ],
      "metadata": {
        "colab": {
          "base_uri": "https://localhost:8080/"
        },
        "id": "wUKJrza1SlOp",
        "outputId": "d8d2a405-a6f9-4a6e-f861-9ba7b1bcf7c4"
      },
      "execution_count": 316,
      "outputs": [
        {
          "output_type": "execute_result",
          "data": {
            "text/plain": [
              "array([[126.8646264 ],\n",
              "       [126.83273092],\n",
              "       [127.26341193],\n",
              "       [127.03547919],\n",
              "       [127.10929857],\n",
              "       [126.82490247],\n",
              "       [126.85301881],\n",
              "       [127.05729467],\n",
              "       [126.88465964],\n",
              "       [127.09539287]])"
            ]
          },
          "metadata": {},
          "execution_count": 316
        }
      ]
    },
    {
      "cell_type": "code",
      "source": [
        "env.state"
      ],
      "metadata": {
        "colab": {
          "base_uri": "https://localhost:8080/"
        },
        "id": "w2_CJKlDZ3Gu",
        "outputId": "e04e0a33-7961-48ee-d6bc-00299065957f"
      },
      "execution_count": 317,
      "outputs": [
        {
          "output_type": "execute_result",
          "data": {
            "text/plain": [
              "array([1., 1., 1., 1., 1., 1., 1., 1., 1., 1., 1., 1., 1., 1., 1., 1., 1.,\n",
              "       1., 1., 1.])"
            ]
          },
          "metadata": {},
          "execution_count": 317
        }
      ]
    },
    {
      "cell_type": "code",
      "source": [
        "\n",
        "rand_gen=random_generator()\n",
        "\n"
      ],
      "metadata": {
        "id": "ZnUrg9Gn4_8-"
      },
      "execution_count": 318,
      "outputs": []
    },
    {
      "cell_type": "code",
      "source": [
        "\n",
        "\n",
        "\n",
        "\n",
        "\n",
        "len(rand_gen.points)"
      ],
      "metadata": {
        "colab": {
          "base_uri": "https://localhost:8080/"
        },
        "id": "C-OOq9ynaEsq",
        "outputId": "7f51a400-c225-4fb1-d962-c72236394737"
      },
      "execution_count": 319,
      "outputs": [
        {
          "output_type": "execute_result",
          "data": {
            "text/plain": [
              "20"
            ]
          },
          "metadata": {},
          "execution_count": 319
        }
      ]
    },
    {
      "cell_type": "code",
      "source": [
        "env=environment(rand_gen)"
      ],
      "metadata": {
        "id": "oaWEMGCraChD"
      },
      "execution_count": 320,
      "outputs": []
    },
    {
      "cell_type": "code",
      "source": [
        "client_id = '8udacwedaf';    \n",
        "client_pw = 'dobOVjHUa8MUvGkMaTEEDhwHPB2hcwuLl7SgC1yY';\n",
        "api_url = 'https://naveropenapi.apigw.ntruss.com/map-reversegeocode/v2/gc?coords='\n",
        "\n",
        "\n",
        "def reverse_geocoding(cord_dataset):\n",
        "    results=[]\n",
        "    for cord in cord_dataset:\n",
        "        cord_url = parse.quote(cord[0])\n",
        "        url = api_url + cord_url + \"&orders=roadaddr&output=json\"\n",
        "        request = Request(url)\n",
        "        request.add_header('X-NCP-APIGW-API-KEY-ID',client_id)\n",
        "        request.add_header('X-NCP-APIGW-API-KEY', client_pw)\n",
        "        try:\n",
        "            response = urlopen(request)\n",
        "        except HTTPError as e:\n",
        "            print('HTTP Error!', e)\n",
        "        else: \n",
        "            rescode = response.getcode()\n",
        "            if rescode == 200:\n",
        "                response_body = response.read().decode('utf-8')\n",
        "                response_body = json.loads(response_body)\n",
        "                print(response_body)\n",
        "                if response_body['status']['code'] == 0:\n",
        "                  area1 = response_body['results'][0]['region']['area1']['name']\n",
        "                  area2 = response_body['results'][0]['region']['area2']['name']\n",
        "                  name = response_body['results'][0]['land']['name']\n",
        "                  land1 = response_body['results'][0]['land']['number1']\n",
        "                  addition = response_body['results'][0]['land']['addition0']['value']\n",
        "                  print(area1, area2, name, land1, addition)\n",
        "                  results.append(area1+ \" \" + area2 + \" \" + name + \" \" + land1 + \" \" + addition)\n",
        "                else: \n",
        "                  results.append(\"주소 정보가 없습니다\")\n",
        "    return results\n",
        "                # response_body = json.loads(response_body) \n",
        "                # print(response_body['region'][0])\n",
        "                # print(\"Success!\")\n",
        "\n"
      ],
      "metadata": {
        "id": "Qa9uW9IYW2Bk"
      },
      "execution_count": 324,
      "outputs": []
    },
    {
      "cell_type": "code",
      "source": [
        "from urllib import request\n",
        "import numpy as np\n",
        "import pandas as pd\n",
        "from urllib.request import urlopen\n",
        "from urllib import parse\n",
        "from urllib.request import Request\n",
        "from urllib.error import HTTPError\n",
        "from bs4 import BeautifulSoup\n",
        "import json\n",
        "import xml.etree.ElementTree as ET"
      ],
      "metadata": {
        "id": "noCjCp06XLCd"
      },
      "execution_count": 325,
      "outputs": []
    },
    {
      "cell_type": "code",
      "source": [
        "import folium\n",
        "import numpy as np\n",
        "\n",
        "def create_maposm(xs, ys):\n",
        "    x_c = np.median(xs)\n",
        "    y_c = np.median(ys)\n",
        "    map_osm = folium.Map(location=[y_c,x_c])\n",
        "    return map_osm\n",
        "def make_marker(map_osm, x, y):\n",
        "    data = []\n",
        "    for i in range(len(x)):\n",
        "        data.append([str(x[i])+ \", \"+str(y[i])])\n",
        "        print(data)\n",
        "    geoname = reverse_geocoding(data)\n",
        "    for i in range(len(x)):\n",
        "        folium.Marker([y[i],x[i]], tooltip=geoname[i]).add_to(map_osm)\n",
        "    return map_osm\n",
        "\n",
        "def draw_line(map_osm, point1, point2):\n",
        "    location = [point1, point2]\n",
        "    folium.PolyLine(locations=location, tooltip='Polyline').add_to(map_osm)\n",
        "    return map_psm"
      ],
      "metadata": {
        "id": "XcUCbTwOW3sm"
      },
      "execution_count": 326,
      "outputs": []
    },
    {
      "cell_type": "code",
      "source": [
        "rand_gen.points"
      ],
      "metadata": {
        "colab": {
          "base_uri": "https://localhost:8080/"
        },
        "id": "hwfrCoJt7wA7",
        "outputId": "f8f9309f-44e1-4565-91f4-784cfa1957b9"
      },
      "execution_count": 327,
      "outputs": [
        {
          "output_type": "execute_result",
          "data": {
            "text/plain": [
              "array([[126.84752436,  37.48386816],\n",
              "       [126.86062269,  37.4183489 ],\n",
              "       [127.0033503 ,  37.57514967],\n",
              "       [127.03442559,  37.52483111],\n",
              "       [127.15886926,  37.66335518],\n",
              "       [126.99855384,  37.70082079],\n",
              "       [127.24273036,  37.65338494],\n",
              "       [127.19952469,  37.68536923],\n",
              "       [126.91336483,  37.47624457],\n",
              "       [127.00977254,  37.58098636],\n",
              "       [126.78192916,  37.70946788],\n",
              "       [127.06248563,  37.68231575],\n",
              "       [127.23383861,  37.55158366],\n",
              "       [126.89362945,  37.46567569],\n",
              "       [126.92546645,  37.45976228],\n",
              "       [127.1102856 ,  37.55835454],\n",
              "       [127.16269857,  37.6197655 ],\n",
              "       [127.07857166,  37.64279828],\n",
              "       [127.06189975,  37.47660915],\n",
              "       [127.13176104,  37.51110766]])"
            ]
          },
          "metadata": {},
          "execution_count": 327
        }
      ]
    },
    {
      "cell_type": "code",
      "source": [
        "\n",
        "s, r, done = env.transition(2)\n",
        "print(s,r,done)"
      ],
      "metadata": {
        "colab": {
          "base_uri": "https://localhost:8080/"
        },
        "id": "YLQKAZ695U-9",
        "outputId": "f2eb12d4-c79e-46a8-99e9-25f41828741c"
      },
      "execution_count": 328,
      "outputs": [
        {
          "output_type": "stream",
          "name": "stdout",
          "text": [
            "[1.0, -1.0, 1.0, -1.0, -1.0, -1.0, -1.0, -1.0, -1.0, -1.0, -1.0, -1.0, -1.0, -1.0, -1.0, -1.0, -1.0, -1.0, -1.0, -1.0] -0.18059357078415642 False\n"
          ]
        }
      ]
    },
    {
      "cell_type": "code",
      "source": [
        "env.reset()"
      ],
      "metadata": {
        "colab": {
          "base_uri": "https://localhost:8080/"
        },
        "id": "YXzzeMIY8LJE",
        "outputId": "1d2a2443-1767-4d6b-f12a-d4210d8358ff"
      },
      "execution_count": 329,
      "outputs": [
        {
          "output_type": "execute_result",
          "data": {
            "text/plain": [
              "[-1.0,\n",
              " -1.0,\n",
              " -1.0,\n",
              " -1.0,\n",
              " -1.0,\n",
              " -1.0,\n",
              " -1.0,\n",
              " -1.0,\n",
              " -1.0,\n",
              " -1.0,\n",
              " -1.0,\n",
              " -1.0,\n",
              " -1.0,\n",
              " -1.0,\n",
              " -1.0,\n",
              " -1.0,\n",
              " -1.0,\n",
              " -1.0,\n",
              " 1.0,\n",
              " -1.0]"
            ]
          },
          "metadata": {},
          "execution_count": 329
        }
      ]
    },
    {
      "cell_type": "code",
      "source": [
        "import numpy as np \n",
        "\n",
        "rand_generator = random_generator(num=20)\n",
        "rand_generator.visualize()\n",
        "env = environment(points_obj=rand_generator)\n",
        "done = False \n",
        "i = 0 \n",
        "state =env.reset()\n",
        "while not done : \n",
        "    #random_mover_action = np.random.randint(0,20)\n",
        " \n",
        "    possible_node = (np.where(np.array(state)==-1)[0])\n",
        "    random_mover_action=random.choice(possible_node)\n",
        "    state,reward,done,=env.transition(random_mover_action)\n",
        "    print(state,done)\n",
        "    possible_node = (np.where(np.array(state)==-1)[0])\n",
        "    i+=1\n",
        "    if done :\n",
        "        break\n",
        "    else:pass\n"
      ],
      "metadata": {
        "colab": {
          "base_uri": "https://localhost:8080/"
        },
        "id": "mFxPCuIvEafZ",
        "outputId": "ac548910-b0d2-41c5-b72f-1f595e8ef7aa"
      },
      "execution_count": 330,
      "outputs": [
        {
          "output_type": "stream",
          "name": "stdout",
          "text": [
            "[['126.93229461907063, 37.59847019865914']]\n",
            "[['126.93229461907063, 37.59847019865914'], ['127.04620571811007, 37.59786146300367']]\n",
            "[['126.93229461907063, 37.59847019865914'], ['127.04620571811007, 37.59786146300367'], ['126.82631220977417, 37.63959005093059']]\n",
            "[['126.93229461907063, 37.59847019865914'], ['127.04620571811007, 37.59786146300367'], ['126.82631220977417, 37.63959005093059'], ['126.8908130686419, 37.455163461334905']]\n",
            "[['126.93229461907063, 37.59847019865914'], ['127.04620571811007, 37.59786146300367'], ['126.82631220977417, 37.63959005093059'], ['126.8908130686419, 37.455163461334905'], ['126.8758196509127, 37.54983501776668']]\n",
            "[['126.93229461907063, 37.59847019865914'], ['127.04620571811007, 37.59786146300367'], ['126.82631220977417, 37.63959005093059'], ['126.8908130686419, 37.455163461334905'], ['126.8758196509127, 37.54983501776668'], ['127.13306988563984, 37.584807471972844']]\n",
            "[['126.93229461907063, 37.59847019865914'], ['127.04620571811007, 37.59786146300367'], ['126.82631220977417, 37.63959005093059'], ['126.8908130686419, 37.455163461334905'], ['126.8758196509127, 37.54983501776668'], ['127.13306988563984, 37.584807471972844'], ['126.8519736885197, 37.68029566997948']]\n",
            "[['126.93229461907063, 37.59847019865914'], ['127.04620571811007, 37.59786146300367'], ['126.82631220977417, 37.63959005093059'], ['126.8908130686419, 37.455163461334905'], ['126.8758196509127, 37.54983501776668'], ['127.13306988563984, 37.584807471972844'], ['126.8519736885197, 37.68029566997948'], ['126.75859144274662, 37.58049517802884']]\n",
            "[['126.93229461907063, 37.59847019865914'], ['127.04620571811007, 37.59786146300367'], ['126.82631220977417, 37.63959005093059'], ['126.8908130686419, 37.455163461334905'], ['126.8758196509127, 37.54983501776668'], ['127.13306988563984, 37.584807471972844'], ['126.8519736885197, 37.68029566997948'], ['126.75859144274662, 37.58049517802884'], ['126.99340538145786, 37.609942095556484']]\n",
            "[['126.93229461907063, 37.59847019865914'], ['127.04620571811007, 37.59786146300367'], ['126.82631220977417, 37.63959005093059'], ['126.8908130686419, 37.455163461334905'], ['126.8758196509127, 37.54983501776668'], ['127.13306988563984, 37.584807471972844'], ['126.8519736885197, 37.68029566997948'], ['126.75859144274662, 37.58049517802884'], ['126.99340538145786, 37.609942095556484'], ['126.7888858911638, 37.64086472326455']]\n",
            "[['126.93229461907063, 37.59847019865914'], ['127.04620571811007, 37.59786146300367'], ['126.82631220977417, 37.63959005093059'], ['126.8908130686419, 37.455163461334905'], ['126.8758196509127, 37.54983501776668'], ['127.13306988563984, 37.584807471972844'], ['126.8519736885197, 37.68029566997948'], ['126.75859144274662, 37.58049517802884'], ['126.99340538145786, 37.609942095556484'], ['126.7888858911638, 37.64086472326455'], ['126.94125076430973, 37.63851669167462']]\n",
            "[['126.93229461907063, 37.59847019865914'], ['127.04620571811007, 37.59786146300367'], ['126.82631220977417, 37.63959005093059'], ['126.8908130686419, 37.455163461334905'], ['126.8758196509127, 37.54983501776668'], ['127.13306988563984, 37.584807471972844'], ['126.8519736885197, 37.68029566997948'], ['126.75859144274662, 37.58049517802884'], ['126.99340538145786, 37.609942095556484'], ['126.7888858911638, 37.64086472326455'], ['126.94125076430973, 37.63851669167462'], ['126.82984250203835, 37.62571058830044']]\n",
            "[['126.93229461907063, 37.59847019865914'], ['127.04620571811007, 37.59786146300367'], ['126.82631220977417, 37.63959005093059'], ['126.8908130686419, 37.455163461334905'], ['126.8758196509127, 37.54983501776668'], ['127.13306988563984, 37.584807471972844'], ['126.8519736885197, 37.68029566997948'], ['126.75859144274662, 37.58049517802884'], ['126.99340538145786, 37.609942095556484'], ['126.7888858911638, 37.64086472326455'], ['126.94125076430973, 37.63851669167462'], ['126.82984250203835, 37.62571058830044'], ['127.06274839501557, 37.565233000076994']]\n",
            "[['126.93229461907063, 37.59847019865914'], ['127.04620571811007, 37.59786146300367'], ['126.82631220977417, 37.63959005093059'], ['126.8908130686419, 37.455163461334905'], ['126.8758196509127, 37.54983501776668'], ['127.13306988563984, 37.584807471972844'], ['126.8519736885197, 37.68029566997948'], ['126.75859144274662, 37.58049517802884'], ['126.99340538145786, 37.609942095556484'], ['126.7888858911638, 37.64086472326455'], ['126.94125076430973, 37.63851669167462'], ['126.82984250203835, 37.62571058830044'], ['127.06274839501557, 37.565233000076994'], ['127.20446818111208, 37.43655979046195']]\n",
            "[['126.93229461907063, 37.59847019865914'], ['127.04620571811007, 37.59786146300367'], ['126.82631220977417, 37.63959005093059'], ['126.8908130686419, 37.455163461334905'], ['126.8758196509127, 37.54983501776668'], ['127.13306988563984, 37.584807471972844'], ['126.8519736885197, 37.68029566997948'], ['126.75859144274662, 37.58049517802884'], ['126.99340538145786, 37.609942095556484'], ['126.7888858911638, 37.64086472326455'], ['126.94125076430973, 37.63851669167462'], ['126.82984250203835, 37.62571058830044'], ['127.06274839501557, 37.565233000076994'], ['127.20446818111208, 37.43655979046195'], ['127.24001756082734, 37.6364941513601']]\n",
            "[['126.93229461907063, 37.59847019865914'], ['127.04620571811007, 37.59786146300367'], ['126.82631220977417, 37.63959005093059'], ['126.8908130686419, 37.455163461334905'], ['126.8758196509127, 37.54983501776668'], ['127.13306988563984, 37.584807471972844'], ['126.8519736885197, 37.68029566997948'], ['126.75859144274662, 37.58049517802884'], ['126.99340538145786, 37.609942095556484'], ['126.7888858911638, 37.64086472326455'], ['126.94125076430973, 37.63851669167462'], ['126.82984250203835, 37.62571058830044'], ['127.06274839501557, 37.565233000076994'], ['127.20446818111208, 37.43655979046195'], ['127.24001756082734, 37.6364941513601'], ['126.96818522392755, 37.57927788147562']]\n",
            "[['126.93229461907063, 37.59847019865914'], ['127.04620571811007, 37.59786146300367'], ['126.82631220977417, 37.63959005093059'], ['126.8908130686419, 37.455163461334905'], ['126.8758196509127, 37.54983501776668'], ['127.13306988563984, 37.584807471972844'], ['126.8519736885197, 37.68029566997948'], ['126.75859144274662, 37.58049517802884'], ['126.99340538145786, 37.609942095556484'], ['126.7888858911638, 37.64086472326455'], ['126.94125076430973, 37.63851669167462'], ['126.82984250203835, 37.62571058830044'], ['127.06274839501557, 37.565233000076994'], ['127.20446818111208, 37.43655979046195'], ['127.24001756082734, 37.6364941513601'], ['126.96818522392755, 37.57927788147562'], ['126.80334802769455, 37.53250005946747']]\n",
            "[['126.93229461907063, 37.59847019865914'], ['127.04620571811007, 37.59786146300367'], ['126.82631220977417, 37.63959005093059'], ['126.8908130686419, 37.455163461334905'], ['126.8758196509127, 37.54983501776668'], ['127.13306988563984, 37.584807471972844'], ['126.8519736885197, 37.68029566997948'], ['126.75859144274662, 37.58049517802884'], ['126.99340538145786, 37.609942095556484'], ['126.7888858911638, 37.64086472326455'], ['126.94125076430973, 37.63851669167462'], ['126.82984250203835, 37.62571058830044'], ['127.06274839501557, 37.565233000076994'], ['127.20446818111208, 37.43655979046195'], ['127.24001756082734, 37.6364941513601'], ['126.96818522392755, 37.57927788147562'], ['126.80334802769455, 37.53250005946747'], ['126.88855036205791, 37.582158695611945']]\n",
            "[['126.93229461907063, 37.59847019865914'], ['127.04620571811007, 37.59786146300367'], ['126.82631220977417, 37.63959005093059'], ['126.8908130686419, 37.455163461334905'], ['126.8758196509127, 37.54983501776668'], ['127.13306988563984, 37.584807471972844'], ['126.8519736885197, 37.68029566997948'], ['126.75859144274662, 37.58049517802884'], ['126.99340538145786, 37.609942095556484'], ['126.7888858911638, 37.64086472326455'], ['126.94125076430973, 37.63851669167462'], ['126.82984250203835, 37.62571058830044'], ['127.06274839501557, 37.565233000076994'], ['127.20446818111208, 37.43655979046195'], ['127.24001756082734, 37.6364941513601'], ['126.96818522392755, 37.57927788147562'], ['126.80334802769455, 37.53250005946747'], ['126.88855036205791, 37.582158695611945'], ['127.15760925020882, 37.65228138774415']]\n",
            "[['126.93229461907063, 37.59847019865914'], ['127.04620571811007, 37.59786146300367'], ['126.82631220977417, 37.63959005093059'], ['126.8908130686419, 37.455163461334905'], ['126.8758196509127, 37.54983501776668'], ['127.13306988563984, 37.584807471972844'], ['126.8519736885197, 37.68029566997948'], ['126.75859144274662, 37.58049517802884'], ['126.99340538145786, 37.609942095556484'], ['126.7888858911638, 37.64086472326455'], ['126.94125076430973, 37.63851669167462'], ['126.82984250203835, 37.62571058830044'], ['127.06274839501557, 37.565233000076994'], ['127.20446818111208, 37.43655979046195'], ['127.24001756082734, 37.6364941513601'], ['126.96818522392755, 37.57927788147562'], ['126.80334802769455, 37.53250005946747'], ['126.88855036205791, 37.582158695611945'], ['127.15760925020882, 37.65228138774415'], ['127.02363940770947, 37.592570456372165']]\n",
            "{'status': {'code': 0, 'name': 'ok', 'message': 'done'}, 'results': [{'name': 'roadaddr', 'code': {'id': '1138010700', 'type': 'L', 'mappingId': '09380107'}, 'region': {'area0': {'name': 'kr', 'coords': {'center': {'crs': '', 'x': 0.0, 'y': 0.0}}}, 'area1': {'name': '서울특별시', 'coords': {'center': {'crs': 'EPSG:4326', 'x': 126.9783882, 'y': 37.5666103}}, 'alias': '서울'}, 'area2': {'name': '은평구', 'coords': {'center': {'crs': 'EPSG:4326', 'x': 126.929164, 'y': 37.602784}}}, 'area3': {'name': '응암동', 'coords': {'center': {'crs': 'EPSG:4326', 'x': 126.926813, 'y': 37.6006884}}}, 'area4': {'name': '', 'coords': {'center': {'crs': '', 'x': 0.0, 'y': 0.0}}}}, 'land': {'type': '', 'number1': '220', 'number2': '', 'addition0': {'type': 'building', 'value': '녹번역e편한세상캐슬'}, 'addition1': {'type': 'zipcode', 'value': '03472'}, 'addition2': {'type': 'roadGroupCode', 'value': '113803111007'}, 'addition3': {'type': '', 'value': ''}, 'addition4': {'type': '', 'value': ''}, 'name': '은평로', 'coords': {'center': {'crs': '', 'x': 0.0, 'y': 0.0}}}}]}\n",
            "서울특별시 은평구 은평로 220 녹번역e편한세상캐슬\n",
            "{'status': {'code': 3, 'name': 'no results', 'message': '요청한 데이타의 결과가 없습니다.'}, 'results': []}\n",
            "{'status': {'code': 0, 'name': 'ok', 'message': 'done'}, 'results': [{'name': 'roadaddr', 'code': {'id': '4128112300', 'type': 'L', 'mappingId': '02281123'}, 'region': {'area0': {'name': 'kr', 'coords': {'center': {'crs': '', 'x': 0.0, 'y': 0.0}}}, 'area1': {'name': '경기도', 'coords': {'center': {'crs': 'EPSG:4326', 'x': 127.550802, 'y': 37.4363177}}, 'alias': '경기'}, 'area2': {'name': '고양시 덕양구', 'coords': {'center': {'crs': 'EPSG:4326', 'x': 126.832397, 'y': 37.637471}}}, 'area3': {'name': '화정동', 'coords': {'center': {'crs': 'EPSG:4326', 'x': 126.8335106, 'y': 37.6446876}}}, 'area4': {'name': '', 'coords': {'center': {'crs': '', 'x': 0.0, 'y': 0.0}}}}, 'land': {'type': '', 'number1': '571', 'number2': '14', 'addition0': {'type': 'building', 'value': ''}, 'addition1': {'type': 'zipcode', 'value': '10455'}, 'addition2': {'type': 'roadGroupCode', 'value': '412813000136'}, 'addition3': {'type': '', 'value': ''}, 'addition4': {'type': '', 'value': ''}, 'name': '호국로', 'coords': {'center': {'crs': '', 'x': 0.0, 'y': 0.0}}}}]}\n",
            "경기도 고양시 덕양구 호국로 571 \n",
            "{'status': {'code': 3, 'name': 'no results', 'message': '요청한 데이타의 결과가 없습니다.'}, 'results': []}\n",
            "{'status': {'code': 0, 'name': 'ok', 'message': 'done'}, 'results': [{'name': 'roadaddr', 'code': {'id': '1150010100', 'type': 'L', 'mappingId': '09500101'}, 'region': {'area0': {'name': 'kr', 'coords': {'center': {'crs': '', 'x': 0.0, 'y': 0.0}}}, 'area1': {'name': '서울특별시', 'coords': {'center': {'crs': 'EPSG:4326', 'x': 126.9783882, 'y': 37.5666103}}, 'alias': '서울'}, 'area2': {'name': '강서구', 'coords': {'center': {'crs': 'EPSG:4326', 'x': 126.849642, 'y': 37.550937}}}, 'area3': {'name': '염창동', 'coords': {'center': {'crs': 'EPSG:4326', 'x': 126.8709777, 'y': 37.553751}}}, 'area4': {'name': '', 'coords': {'center': {'crs': '', 'x': 0.0, 'y': 0.0}}}}, 'land': {'type': '', 'number1': '717', 'number2': '5', 'addition0': {'type': 'building', 'value': ''}, 'addition1': {'type': 'zipcode', 'value': '07540'}, 'addition2': {'type': 'roadGroupCode', 'value': '115003115008'}, 'addition3': {'type': '', 'value': ''}, 'addition4': {'type': '', 'value': ''}, 'name': '양천로', 'coords': {'center': {'crs': '', 'x': 0.0, 'y': 0.0}}}}]}\n",
            "서울특별시 강서구 양천로 717 \n",
            "{'status': {'code': 3, 'name': 'no results', 'message': '요청한 데이타의 결과가 없습니다.'}, 'results': []}\n",
            "{'status': {'code': 3, 'name': 'no results', 'message': '요청한 데이타의 결과가 없습니다.'}, 'results': []}\n",
            "{'status': {'code': 3, 'name': 'no results', 'message': '요청한 데이타의 결과가 없습니다.'}, 'results': []}\n",
            "{'status': {'code': 3, 'name': 'no results', 'message': '요청한 데이타의 결과가 없습니다.'}, 'results': []}\n",
            "{'status': {'code': 0, 'name': 'ok', 'message': 'done'}, 'results': [{'name': 'roadaddr', 'code': {'id': '4128510600', 'type': 'L', 'mappingId': '02285106'}, 'region': {'area0': {'name': 'kr', 'coords': {'center': {'crs': '', 'x': 0.0, 'y': 0.0}}}, 'area1': {'name': '경기도', 'coords': {'center': {'crs': 'EPSG:4326', 'x': 127.550802, 'y': 37.4363177}}, 'alias': '경기'}, 'area2': {'name': '고양시 일산동구', 'coords': {'center': {'crs': 'EPSG:4326', 'x': 126.7751907, 'y': 37.6586218}}}, 'area3': {'name': '백석동', 'coords': {'center': {'crs': 'EPSG:4326', 'x': 126.7925109, 'y': 37.6496787}}}, 'area4': {'name': '', 'coords': {'center': {'crs': '', 'x': 0.0, 'y': 0.0}}}}, 'land': {'type': '', 'number1': '25', 'number2': '', 'addition0': {'type': 'building', 'value': '코스트코 일산점'}, 'addition1': {'type': 'zipcode', 'value': '10449'}, 'addition2': {'type': 'roadGroupCode', 'value': '412853193029'}, 'addition3': {'type': '', 'value': ''}, 'addition4': {'type': '', 'value': ''}, 'name': '장백로', 'coords': {'center': {'crs': '', 'x': 0.0, 'y': 0.0}}}}]}\n",
            "경기도 고양시 일산동구 장백로 25 코스트코 일산점\n",
            "{'status': {'code': 3, 'name': 'no results', 'message': '요청한 데이타의 결과가 없습니다.'}, 'results': []}\n",
            "{'status': {'code': 0, 'name': 'ok', 'message': 'done'}, 'results': [{'name': 'roadaddr', 'code': {'id': '4128112000', 'type': 'L', 'mappingId': '02281120'}, 'region': {'area0': {'name': 'kr', 'coords': {'center': {'crs': '', 'x': 0.0, 'y': 0.0}}}, 'area1': {'name': '경기도', 'coords': {'center': {'crs': 'EPSG:4326', 'x': 127.550802, 'y': 37.4363177}}, 'alias': '경기'}, 'area2': {'name': '고양시 덕양구', 'coords': {'center': {'crs': 'EPSG:4326', 'x': 126.832397, 'y': 37.637471}}}, 'area3': {'name': '토당동', 'coords': {'center': {'crs': 'EPSG:4326', 'x': 126.816, 'y': 37.6236}}}, 'area4': {'name': '', 'coords': {'center': {'crs': '', 'x': 0.0, 'y': 0.0}}}}, 'land': {'type': '', 'number1': '25', 'number2': '', 'addition0': {'type': 'building', 'value': '고양시청소년수련관'}, 'addition1': {'type': 'zipcode', 'value': '10512'}, 'addition2': {'type': 'roadGroupCode', 'value': '412814376216'}, 'addition3': {'type': '', 'value': ''}, 'addition4': {'type': '', 'value': ''}, 'name': '중앙로633번길', 'coords': {'center': {'crs': '', 'x': 0.0, 'y': 0.0}}}}]}\n",
            "경기도 고양시 덕양구 중앙로633번길 25 고양시청소년수련관\n",
            "{'status': {'code': 0, 'name': 'ok', 'message': 'done'}, 'results': [{'name': 'roadaddr', 'code': {'id': '1123010600', 'type': 'L', 'mappingId': '09230106'}, 'region': {'area0': {'name': 'kr', 'coords': {'center': {'crs': '', 'x': 0.0, 'y': 0.0}}}, 'area1': {'name': '서울특별시', 'coords': {'center': {'crs': 'EPSG:4326', 'x': 126.9783882, 'y': 37.5666103}}, 'alias': '서울'}, 'area2': {'name': '동대문구', 'coords': {'center': {'crs': 'EPSG:4326', 'x': 127.03965, 'y': 37.574524}}}, 'area3': {'name': '장안동', 'coords': {'center': {'crs': 'EPSG:4326', 'x': 127.066375, 'y': 37.567842}}}, 'area4': {'name': '', 'coords': {'center': {'crs': '', 'x': 0.0, 'y': 0.0}}}}, 'land': {'type': '', 'number1': '79', 'number2': '', 'addition0': {'type': 'building', 'value': '장안동신일해피트리아파트'}, 'addition1': {'type': 'zipcode', 'value': '02632'}, 'addition2': {'type': 'roadGroupCode', 'value': '112304115563'}, 'addition3': {'type': '', 'value': ''}, 'addition4': {'type': '', 'value': ''}, 'name': '천호대로77길', 'coords': {'center': {'crs': '', 'x': 0.0, 'y': 0.0}}}}]}\n",
            "서울특별시 동대문구 천호대로77길 79 장안동신일해피트리아파트\n",
            "{'status': {'code': 0, 'name': 'ok', 'message': 'done'}, 'results': [{'name': 'roadaddr', 'code': {'id': '4161010600', 'type': 'L', 'mappingId': '02610106'}, 'region': {'area0': {'name': 'kr', 'coords': {'center': {'crs': '', 'x': 0.0, 'y': 0.0}}}, 'area1': {'name': '경기도', 'coords': {'center': {'crs': 'EPSG:4326', 'x': 127.550802, 'y': 37.4363177}}, 'alias': '경기'}, 'area2': {'name': '광주시', 'coords': {'center': {'crs': 'EPSG:4326', 'x': 127.2550476, 'y': 37.4294306}}}, 'area3': {'name': '목현동', 'coords': {'center': {'crs': 'EPSG:4326', 'x': 127.2161, 'y': 37.4325763}}}, 'area4': {'name': '', 'coords': {'center': {'crs': '', 'x': 0.0, 'y': 0.0}}}}, 'land': {'type': '', 'number1': '56', 'number2': '', 'addition0': {'type': 'building', 'value': ''}, 'addition1': {'type': 'zipcode', 'value': '12765'}, 'addition2': {'type': 'roadGroupCode', 'value': '416104433225'}, 'addition3': {'type': '', 'value': ''}, 'addition4': {'type': '', 'value': ''}, 'name': '밭말길', 'coords': {'center': {'crs': '', 'x': 0.0, 'y': 0.0}}}}]}\n",
            "경기도 광주시 밭말길 56 \n",
            "{'status': {'code': 3, 'name': 'no results', 'message': '요청한 데이타의 결과가 없습니다.'}, 'results': []}\n",
            "{'status': {'code': 0, 'name': 'ok', 'message': 'done'}, 'results': [{'name': 'roadaddr', 'code': {'id': '1111011000', 'type': 'L', 'mappingId': '09110110'}, 'region': {'area0': {'name': 'kr', 'coords': {'center': {'crs': '', 'x': 0.0, 'y': 0.0}}}, 'area1': {'name': '서울특별시', 'coords': {'center': {'crs': 'EPSG:4326', 'x': 126.9783882, 'y': 37.5666103}}, 'alias': '서울'}, 'area2': {'name': '종로구', 'coords': {'center': {'crs': 'EPSG:4326', 'x': 126.9788345, 'y': 37.5735207}}}, 'area3': {'name': '누하동', 'coords': {'center': {'crs': 'EPSG:4326', 'x': 126.968175, 'y': 37.579183}}}, 'area4': {'name': '', 'coords': {'center': {'crs': '', 'x': 0.0, 'y': 0.0}}}}, 'land': {'type': '', 'number1': '9', 'number2': '1', 'addition0': {'type': 'building', 'value': ''}, 'addition1': {'type': 'zipcode', 'value': '03039'}, 'addition2': {'type': 'roadGroupCode', 'value': '111104100528'}, 'addition3': {'type': '', 'value': ''}, 'addition4': {'type': '', 'value': ''}, 'name': '필운대로5길', 'coords': {'center': {'crs': '', 'x': 0.0, 'y': 0.0}}}}]}\n",
            "서울특별시 종로구 필운대로5길 9 \n",
            "{'status': {'code': 3, 'name': 'no results', 'message': '요청한 데이타의 결과가 없습니다.'}, 'results': []}\n",
            "{'status': {'code': 3, 'name': 'no results', 'message': '요청한 데이타의 결과가 없습니다.'}, 'results': []}\n",
            "{'status': {'code': 3, 'name': 'no results', 'message': '요청한 데이타의 결과가 없습니다.'}, 'results': []}\n",
            "{'status': {'code': 0, 'name': 'ok', 'message': 'done'}, 'results': [{'name': 'roadaddr', 'code': {'id': '1129010300', 'type': 'L', 'mappingId': '09290103'}, 'region': {'area0': {'name': 'kr', 'coords': {'center': {'crs': '', 'x': 0.0, 'y': 0.0}}}, 'area1': {'name': '서울특별시', 'coords': {'center': {'crs': 'EPSG:4326', 'x': 126.9783882, 'y': 37.5666103}}, 'alias': '서울'}, 'area2': {'name': '성북구', 'coords': {'center': {'crs': 'EPSG:4326', 'x': 127.016749, 'y': 37.5894}}}, 'area3': {'name': '돈암동', 'coords': {'center': {'crs': 'EPSG:4326', 'x': 127.0263875, 'y': 37.6034071}}}, 'area4': {'name': '', 'coords': {'center': {'crs': '', 'x': 0.0, 'y': 0.0}}}}, 'land': {'type': '', 'number1': '109', 'number2': '', 'addition0': {'type': 'building', 'value': ''}, 'addition1': {'type': 'zipcode', 'value': '02840'}, 'addition2': {'type': 'roadGroupCode', 'value': '112904121102'}, 'addition3': {'type': '', 'value': ''}, 'addition4': {'type': '', 'value': ''}, 'name': '동소문로26가길', 'coords': {'center': {'crs': '', 'x': 0.0, 'y': 0.0}}}}]}\n",
            "서울특별시 성북구 동소문로26가길 109 \n",
            "[-1.0, -1.0, -1.0, -1.0, -1.0, -1.0, 1.0, -1.0, -1.0, -1.0, -1.0, -1.0, -1.0, -1.0, -1.0, 1.0, -1.0, -1.0, -1.0, -1.0] False\n",
            "[-1.0, -1.0, -1.0, -1.0, -1.0, -1.0, 1.0, -1.0, -1.0, -1.0, -1.0, -1.0, -1.0, -1.0, -1.0, 1.0, -1.0, -1.0, -1.0, 1.0] False\n",
            "[-1.0, -1.0, -1.0, -1.0, -1.0, -1.0, 1.0, -1.0, -1.0, -1.0, -1.0, -1.0, -1.0, -1.0, -1.0, 1.0, -1.0, 1.0, -1.0, 1.0] False\n",
            "[-1.0, -1.0, -1.0, -1.0, -1.0, -1.0, 1.0, -1.0, -1.0, -1.0, -1.0, -1.0, -1.0, -1.0, -1.0, 1.0, 1.0, 1.0, -1.0, 1.0] False\n",
            "[-1.0, -1.0, -1.0, -1.0, -1.0, -1.0, 1.0, -1.0, -1.0, -1.0, -1.0, -1.0, 1.0, -1.0, -1.0, 1.0, 1.0, 1.0, -1.0, 1.0] False\n",
            "[-1.0, 1.0, -1.0, -1.0, -1.0, -1.0, 1.0, -1.0, -1.0, -1.0, -1.0, -1.0, 1.0, -1.0, -1.0, 1.0, 1.0, 1.0, -1.0, 1.0] False\n",
            "[-1.0, 1.0, -1.0, -1.0, -1.0, -1.0, 1.0, -1.0, -1.0, 1.0, -1.0, -1.0, 1.0, -1.0, -1.0, 1.0, 1.0, 1.0, -1.0, 1.0] False\n",
            "[-1.0, 1.0, -1.0, -1.0, 1.0, -1.0, 1.0, -1.0, -1.0, 1.0, -1.0, -1.0, 1.0, -1.0, -1.0, 1.0, 1.0, 1.0, -1.0, 1.0] False\n",
            "[-1.0, 1.0, 1.0, -1.0, 1.0, -1.0, 1.0, -1.0, -1.0, 1.0, -1.0, -1.0, 1.0, -1.0, -1.0, 1.0, 1.0, 1.0, -1.0, 1.0] False\n",
            "[1.0, 1.0, 1.0, -1.0, 1.0, -1.0, 1.0, -1.0, -1.0, 1.0, -1.0, -1.0, 1.0, -1.0, -1.0, 1.0, 1.0, 1.0, -1.0, 1.0] False\n",
            "[1.0, 1.0, 1.0, -1.0, 1.0, -1.0, 1.0, -1.0, -1.0, 1.0, -1.0, -1.0, 1.0, 1.0, -1.0, 1.0, 1.0, 1.0, -1.0, 1.0] False\n",
            "[1.0, 1.0, 1.0, -1.0, 1.0, -1.0, 1.0, 1.0, -1.0, 1.0, -1.0, -1.0, 1.0, 1.0, -1.0, 1.0, 1.0, 1.0, -1.0, 1.0] False\n",
            "[1.0, 1.0, 1.0, 1.0, 1.0, -1.0, 1.0, 1.0, -1.0, 1.0, -1.0, -1.0, 1.0, 1.0, -1.0, 1.0, 1.0, 1.0, -1.0, 1.0] False\n",
            "[1.0, 1.0, 1.0, 1.0, 1.0, -1.0, 1.0, 1.0, -1.0, 1.0, -1.0, 1.0, 1.0, 1.0, -1.0, 1.0, 1.0, 1.0, -1.0, 1.0] False\n",
            "[1.0, 1.0, 1.0, 1.0, 1.0, 1.0, 1.0, 1.0, -1.0, 1.0, -1.0, 1.0, 1.0, 1.0, -1.0, 1.0, 1.0, 1.0, -1.0, 1.0] False\n",
            "[1.0, 1.0, 1.0, 1.0, 1.0, 1.0, 1.0, 1.0, 1.0, 1.0, -1.0, 1.0, 1.0, 1.0, -1.0, 1.0, 1.0, 1.0, -1.0, 1.0] False\n",
            "[1.0, 1.0, 1.0, 1.0, 1.0, 1.0, 1.0, 1.0, 1.0, 1.0, -1.0, 1.0, 1.0, 1.0, 1.0, 1.0, 1.0, 1.0, -1.0, 1.0] False\n",
            "[1.0, 1.0, 1.0, 1.0, 1.0, 1.0, 1.0, 1.0, 1.0, 1.0, -1.0, 1.0, 1.0, 1.0, 1.0, 1.0, 1.0, 1.0, 1.0, 1.0] False\n",
            "[1.0, 1.0, 1.0, 1.0, 1.0, 1.0, 1.0, 1.0, 1.0, 1.0, 1.0, 1.0, 1.0, 1.0, 1.0, 1.0, 1.0, 1.0, 1.0, 1.0] True\n"
          ]
        }
      ]
    },
    {
      "cell_type": "code",
      "source": [
        "env.visualize()"
      ],
      "metadata": {
        "colab": {
          "base_uri": "https://localhost:8080/",
          "height": 1000
        },
        "id": "2ZRCoksCb1gG",
        "outputId": "d47f56b2-daf1-48e0-8cb5-4b39cb4703d6"
      },
      "execution_count": 331,
      "outputs": [
        {
          "output_type": "stream",
          "name": "stdout",
          "text": [
            "[['126.93229461907063, 37.59847019865914']]\n",
            "[['126.93229461907063, 37.59847019865914'], ['127.04620571811007, 37.59786146300367']]\n",
            "[['126.93229461907063, 37.59847019865914'], ['127.04620571811007, 37.59786146300367'], ['126.82631220977417, 37.63959005093059']]\n",
            "[['126.93229461907063, 37.59847019865914'], ['127.04620571811007, 37.59786146300367'], ['126.82631220977417, 37.63959005093059'], ['126.8908130686419, 37.455163461334905']]\n",
            "[['126.93229461907063, 37.59847019865914'], ['127.04620571811007, 37.59786146300367'], ['126.82631220977417, 37.63959005093059'], ['126.8908130686419, 37.455163461334905'], ['126.8758196509127, 37.54983501776668']]\n",
            "[['126.93229461907063, 37.59847019865914'], ['127.04620571811007, 37.59786146300367'], ['126.82631220977417, 37.63959005093059'], ['126.8908130686419, 37.455163461334905'], ['126.8758196509127, 37.54983501776668'], ['127.13306988563984, 37.584807471972844']]\n",
            "[['126.93229461907063, 37.59847019865914'], ['127.04620571811007, 37.59786146300367'], ['126.82631220977417, 37.63959005093059'], ['126.8908130686419, 37.455163461334905'], ['126.8758196509127, 37.54983501776668'], ['127.13306988563984, 37.584807471972844'], ['126.8519736885197, 37.68029566997948']]\n",
            "[['126.93229461907063, 37.59847019865914'], ['127.04620571811007, 37.59786146300367'], ['126.82631220977417, 37.63959005093059'], ['126.8908130686419, 37.455163461334905'], ['126.8758196509127, 37.54983501776668'], ['127.13306988563984, 37.584807471972844'], ['126.8519736885197, 37.68029566997948'], ['126.75859144274662, 37.58049517802884']]\n",
            "[['126.93229461907063, 37.59847019865914'], ['127.04620571811007, 37.59786146300367'], ['126.82631220977417, 37.63959005093059'], ['126.8908130686419, 37.455163461334905'], ['126.8758196509127, 37.54983501776668'], ['127.13306988563984, 37.584807471972844'], ['126.8519736885197, 37.68029566997948'], ['126.75859144274662, 37.58049517802884'], ['126.99340538145786, 37.609942095556484']]\n",
            "[['126.93229461907063, 37.59847019865914'], ['127.04620571811007, 37.59786146300367'], ['126.82631220977417, 37.63959005093059'], ['126.8908130686419, 37.455163461334905'], ['126.8758196509127, 37.54983501776668'], ['127.13306988563984, 37.584807471972844'], ['126.8519736885197, 37.68029566997948'], ['126.75859144274662, 37.58049517802884'], ['126.99340538145786, 37.609942095556484'], ['126.7888858911638, 37.64086472326455']]\n",
            "[['126.93229461907063, 37.59847019865914'], ['127.04620571811007, 37.59786146300367'], ['126.82631220977417, 37.63959005093059'], ['126.8908130686419, 37.455163461334905'], ['126.8758196509127, 37.54983501776668'], ['127.13306988563984, 37.584807471972844'], ['126.8519736885197, 37.68029566997948'], ['126.75859144274662, 37.58049517802884'], ['126.99340538145786, 37.609942095556484'], ['126.7888858911638, 37.64086472326455'], ['126.94125076430973, 37.63851669167462']]\n",
            "[['126.93229461907063, 37.59847019865914'], ['127.04620571811007, 37.59786146300367'], ['126.82631220977417, 37.63959005093059'], ['126.8908130686419, 37.455163461334905'], ['126.8758196509127, 37.54983501776668'], ['127.13306988563984, 37.584807471972844'], ['126.8519736885197, 37.68029566997948'], ['126.75859144274662, 37.58049517802884'], ['126.99340538145786, 37.609942095556484'], ['126.7888858911638, 37.64086472326455'], ['126.94125076430973, 37.63851669167462'], ['126.82984250203835, 37.62571058830044']]\n",
            "[['126.93229461907063, 37.59847019865914'], ['127.04620571811007, 37.59786146300367'], ['126.82631220977417, 37.63959005093059'], ['126.8908130686419, 37.455163461334905'], ['126.8758196509127, 37.54983501776668'], ['127.13306988563984, 37.584807471972844'], ['126.8519736885197, 37.68029566997948'], ['126.75859144274662, 37.58049517802884'], ['126.99340538145786, 37.609942095556484'], ['126.7888858911638, 37.64086472326455'], ['126.94125076430973, 37.63851669167462'], ['126.82984250203835, 37.62571058830044'], ['127.06274839501557, 37.565233000076994']]\n",
            "[['126.93229461907063, 37.59847019865914'], ['127.04620571811007, 37.59786146300367'], ['126.82631220977417, 37.63959005093059'], ['126.8908130686419, 37.455163461334905'], ['126.8758196509127, 37.54983501776668'], ['127.13306988563984, 37.584807471972844'], ['126.8519736885197, 37.68029566997948'], ['126.75859144274662, 37.58049517802884'], ['126.99340538145786, 37.609942095556484'], ['126.7888858911638, 37.64086472326455'], ['126.94125076430973, 37.63851669167462'], ['126.82984250203835, 37.62571058830044'], ['127.06274839501557, 37.565233000076994'], ['127.20446818111208, 37.43655979046195']]\n",
            "[['126.93229461907063, 37.59847019865914'], ['127.04620571811007, 37.59786146300367'], ['126.82631220977417, 37.63959005093059'], ['126.8908130686419, 37.455163461334905'], ['126.8758196509127, 37.54983501776668'], ['127.13306988563984, 37.584807471972844'], ['126.8519736885197, 37.68029566997948'], ['126.75859144274662, 37.58049517802884'], ['126.99340538145786, 37.609942095556484'], ['126.7888858911638, 37.64086472326455'], ['126.94125076430973, 37.63851669167462'], ['126.82984250203835, 37.62571058830044'], ['127.06274839501557, 37.565233000076994'], ['127.20446818111208, 37.43655979046195'], ['127.24001756082734, 37.6364941513601']]\n",
            "[['126.93229461907063, 37.59847019865914'], ['127.04620571811007, 37.59786146300367'], ['126.82631220977417, 37.63959005093059'], ['126.8908130686419, 37.455163461334905'], ['126.8758196509127, 37.54983501776668'], ['127.13306988563984, 37.584807471972844'], ['126.8519736885197, 37.68029566997948'], ['126.75859144274662, 37.58049517802884'], ['126.99340538145786, 37.609942095556484'], ['126.7888858911638, 37.64086472326455'], ['126.94125076430973, 37.63851669167462'], ['126.82984250203835, 37.62571058830044'], ['127.06274839501557, 37.565233000076994'], ['127.20446818111208, 37.43655979046195'], ['127.24001756082734, 37.6364941513601'], ['126.96818522392755, 37.57927788147562']]\n",
            "[['126.93229461907063, 37.59847019865914'], ['127.04620571811007, 37.59786146300367'], ['126.82631220977417, 37.63959005093059'], ['126.8908130686419, 37.455163461334905'], ['126.8758196509127, 37.54983501776668'], ['127.13306988563984, 37.584807471972844'], ['126.8519736885197, 37.68029566997948'], ['126.75859144274662, 37.58049517802884'], ['126.99340538145786, 37.609942095556484'], ['126.7888858911638, 37.64086472326455'], ['126.94125076430973, 37.63851669167462'], ['126.82984250203835, 37.62571058830044'], ['127.06274839501557, 37.565233000076994'], ['127.20446818111208, 37.43655979046195'], ['127.24001756082734, 37.6364941513601'], ['126.96818522392755, 37.57927788147562'], ['126.80334802769455, 37.53250005946747']]\n",
            "[['126.93229461907063, 37.59847019865914'], ['127.04620571811007, 37.59786146300367'], ['126.82631220977417, 37.63959005093059'], ['126.8908130686419, 37.455163461334905'], ['126.8758196509127, 37.54983501776668'], ['127.13306988563984, 37.584807471972844'], ['126.8519736885197, 37.68029566997948'], ['126.75859144274662, 37.58049517802884'], ['126.99340538145786, 37.609942095556484'], ['126.7888858911638, 37.64086472326455'], ['126.94125076430973, 37.63851669167462'], ['126.82984250203835, 37.62571058830044'], ['127.06274839501557, 37.565233000076994'], ['127.20446818111208, 37.43655979046195'], ['127.24001756082734, 37.6364941513601'], ['126.96818522392755, 37.57927788147562'], ['126.80334802769455, 37.53250005946747'], ['126.88855036205791, 37.582158695611945']]\n",
            "[['126.93229461907063, 37.59847019865914'], ['127.04620571811007, 37.59786146300367'], ['126.82631220977417, 37.63959005093059'], ['126.8908130686419, 37.455163461334905'], ['126.8758196509127, 37.54983501776668'], ['127.13306988563984, 37.584807471972844'], ['126.8519736885197, 37.68029566997948'], ['126.75859144274662, 37.58049517802884'], ['126.99340538145786, 37.609942095556484'], ['126.7888858911638, 37.64086472326455'], ['126.94125076430973, 37.63851669167462'], ['126.82984250203835, 37.62571058830044'], ['127.06274839501557, 37.565233000076994'], ['127.20446818111208, 37.43655979046195'], ['127.24001756082734, 37.6364941513601'], ['126.96818522392755, 37.57927788147562'], ['126.80334802769455, 37.53250005946747'], ['126.88855036205791, 37.582158695611945'], ['127.15760925020882, 37.65228138774415']]\n",
            "[['126.93229461907063, 37.59847019865914'], ['127.04620571811007, 37.59786146300367'], ['126.82631220977417, 37.63959005093059'], ['126.8908130686419, 37.455163461334905'], ['126.8758196509127, 37.54983501776668'], ['127.13306988563984, 37.584807471972844'], ['126.8519736885197, 37.68029566997948'], ['126.75859144274662, 37.58049517802884'], ['126.99340538145786, 37.609942095556484'], ['126.7888858911638, 37.64086472326455'], ['126.94125076430973, 37.63851669167462'], ['126.82984250203835, 37.62571058830044'], ['127.06274839501557, 37.565233000076994'], ['127.20446818111208, 37.43655979046195'], ['127.24001756082734, 37.6364941513601'], ['126.96818522392755, 37.57927788147562'], ['126.80334802769455, 37.53250005946747'], ['126.88855036205791, 37.582158695611945'], ['127.15760925020882, 37.65228138774415'], ['127.02363940770947, 37.592570456372165']]\n",
            "{'status': {'code': 0, 'name': 'ok', 'message': 'done'}, 'results': [{'name': 'roadaddr', 'code': {'id': '1138010700', 'type': 'L', 'mappingId': '09380107'}, 'region': {'area0': {'name': 'kr', 'coords': {'center': {'crs': '', 'x': 0.0, 'y': 0.0}}}, 'area1': {'name': '서울특별시', 'coords': {'center': {'crs': 'EPSG:4326', 'x': 126.9783882, 'y': 37.5666103}}, 'alias': '서울'}, 'area2': {'name': '은평구', 'coords': {'center': {'crs': 'EPSG:4326', 'x': 126.929164, 'y': 37.602784}}}, 'area3': {'name': '응암동', 'coords': {'center': {'crs': 'EPSG:4326', 'x': 126.926813, 'y': 37.6006884}}}, 'area4': {'name': '', 'coords': {'center': {'crs': '', 'x': 0.0, 'y': 0.0}}}}, 'land': {'type': '', 'number1': '220', 'number2': '', 'addition0': {'type': 'building', 'value': '녹번역e편한세상캐슬'}, 'addition1': {'type': 'zipcode', 'value': '03472'}, 'addition2': {'type': 'roadGroupCode', 'value': '113803111007'}, 'addition3': {'type': '', 'value': ''}, 'addition4': {'type': '', 'value': ''}, 'name': '은평로', 'coords': {'center': {'crs': '', 'x': 0.0, 'y': 0.0}}}}]}\n",
            "서울특별시 은평구 은평로 220 녹번역e편한세상캐슬\n",
            "{'status': {'code': 3, 'name': 'no results', 'message': '요청한 데이타의 결과가 없습니다.'}, 'results': []}\n",
            "{'status': {'code': 0, 'name': 'ok', 'message': 'done'}, 'results': [{'name': 'roadaddr', 'code': {'id': '4128112300', 'type': 'L', 'mappingId': '02281123'}, 'region': {'area0': {'name': 'kr', 'coords': {'center': {'crs': '', 'x': 0.0, 'y': 0.0}}}, 'area1': {'name': '경기도', 'coords': {'center': {'crs': 'EPSG:4326', 'x': 127.550802, 'y': 37.4363177}}, 'alias': '경기'}, 'area2': {'name': '고양시 덕양구', 'coords': {'center': {'crs': 'EPSG:4326', 'x': 126.832397, 'y': 37.637471}}}, 'area3': {'name': '화정동', 'coords': {'center': {'crs': 'EPSG:4326', 'x': 126.8335106, 'y': 37.6446876}}}, 'area4': {'name': '', 'coords': {'center': {'crs': '', 'x': 0.0, 'y': 0.0}}}}, 'land': {'type': '', 'number1': '571', 'number2': '14', 'addition0': {'type': 'building', 'value': ''}, 'addition1': {'type': 'zipcode', 'value': '10455'}, 'addition2': {'type': 'roadGroupCode', 'value': '412813000136'}, 'addition3': {'type': '', 'value': ''}, 'addition4': {'type': '', 'value': ''}, 'name': '호국로', 'coords': {'center': {'crs': '', 'x': 0.0, 'y': 0.0}}}}]}\n",
            "경기도 고양시 덕양구 호국로 571 \n",
            "{'status': {'code': 3, 'name': 'no results', 'message': '요청한 데이타의 결과가 없습니다.'}, 'results': []}\n",
            "{'status': {'code': 0, 'name': 'ok', 'message': 'done'}, 'results': [{'name': 'roadaddr', 'code': {'id': '1150010100', 'type': 'L', 'mappingId': '09500101'}, 'region': {'area0': {'name': 'kr', 'coords': {'center': {'crs': '', 'x': 0.0, 'y': 0.0}}}, 'area1': {'name': '서울특별시', 'coords': {'center': {'crs': 'EPSG:4326', 'x': 126.9783882, 'y': 37.5666103}}, 'alias': '서울'}, 'area2': {'name': '강서구', 'coords': {'center': {'crs': 'EPSG:4326', 'x': 126.849642, 'y': 37.550937}}}, 'area3': {'name': '염창동', 'coords': {'center': {'crs': 'EPSG:4326', 'x': 126.8709777, 'y': 37.553751}}}, 'area4': {'name': '', 'coords': {'center': {'crs': '', 'x': 0.0, 'y': 0.0}}}}, 'land': {'type': '', 'number1': '717', 'number2': '5', 'addition0': {'type': 'building', 'value': ''}, 'addition1': {'type': 'zipcode', 'value': '07540'}, 'addition2': {'type': 'roadGroupCode', 'value': '115003115008'}, 'addition3': {'type': '', 'value': ''}, 'addition4': {'type': '', 'value': ''}, 'name': '양천로', 'coords': {'center': {'crs': '', 'x': 0.0, 'y': 0.0}}}}]}\n",
            "서울특별시 강서구 양천로 717 \n",
            "{'status': {'code': 3, 'name': 'no results', 'message': '요청한 데이타의 결과가 없습니다.'}, 'results': []}\n",
            "{'status': {'code': 3, 'name': 'no results', 'message': '요청한 데이타의 결과가 없습니다.'}, 'results': []}\n",
            "{'status': {'code': 3, 'name': 'no results', 'message': '요청한 데이타의 결과가 없습니다.'}, 'results': []}\n",
            "{'status': {'code': 3, 'name': 'no results', 'message': '요청한 데이타의 결과가 없습니다.'}, 'results': []}\n",
            "{'status': {'code': 0, 'name': 'ok', 'message': 'done'}, 'results': [{'name': 'roadaddr', 'code': {'id': '4128510600', 'type': 'L', 'mappingId': '02285106'}, 'region': {'area0': {'name': 'kr', 'coords': {'center': {'crs': '', 'x': 0.0, 'y': 0.0}}}, 'area1': {'name': '경기도', 'coords': {'center': {'crs': 'EPSG:4326', 'x': 127.550802, 'y': 37.4363177}}, 'alias': '경기'}, 'area2': {'name': '고양시 일산동구', 'coords': {'center': {'crs': 'EPSG:4326', 'x': 126.7751907, 'y': 37.6586218}}}, 'area3': {'name': '백석동', 'coords': {'center': {'crs': 'EPSG:4326', 'x': 126.7925109, 'y': 37.6496787}}}, 'area4': {'name': '', 'coords': {'center': {'crs': '', 'x': 0.0, 'y': 0.0}}}}, 'land': {'type': '', 'number1': '25', 'number2': '', 'addition0': {'type': 'building', 'value': '코스트코 일산점'}, 'addition1': {'type': 'zipcode', 'value': '10449'}, 'addition2': {'type': 'roadGroupCode', 'value': '412853193029'}, 'addition3': {'type': '', 'value': ''}, 'addition4': {'type': '', 'value': ''}, 'name': '장백로', 'coords': {'center': {'crs': '', 'x': 0.0, 'y': 0.0}}}}]}\n",
            "경기도 고양시 일산동구 장백로 25 코스트코 일산점\n",
            "{'status': {'code': 3, 'name': 'no results', 'message': '요청한 데이타의 결과가 없습니다.'}, 'results': []}\n",
            "{'status': {'code': 0, 'name': 'ok', 'message': 'done'}, 'results': [{'name': 'roadaddr', 'code': {'id': '4128112000', 'type': 'L', 'mappingId': '02281120'}, 'region': {'area0': {'name': 'kr', 'coords': {'center': {'crs': '', 'x': 0.0, 'y': 0.0}}}, 'area1': {'name': '경기도', 'coords': {'center': {'crs': 'EPSG:4326', 'x': 127.550802, 'y': 37.4363177}}, 'alias': '경기'}, 'area2': {'name': '고양시 덕양구', 'coords': {'center': {'crs': 'EPSG:4326', 'x': 126.832397, 'y': 37.637471}}}, 'area3': {'name': '토당동', 'coords': {'center': {'crs': 'EPSG:4326', 'x': 126.816, 'y': 37.6236}}}, 'area4': {'name': '', 'coords': {'center': {'crs': '', 'x': 0.0, 'y': 0.0}}}}, 'land': {'type': '', 'number1': '25', 'number2': '', 'addition0': {'type': 'building', 'value': '고양시청소년수련관'}, 'addition1': {'type': 'zipcode', 'value': '10512'}, 'addition2': {'type': 'roadGroupCode', 'value': '412814376216'}, 'addition3': {'type': '', 'value': ''}, 'addition4': {'type': '', 'value': ''}, 'name': '중앙로633번길', 'coords': {'center': {'crs': '', 'x': 0.0, 'y': 0.0}}}}]}\n",
            "경기도 고양시 덕양구 중앙로633번길 25 고양시청소년수련관\n",
            "{'status': {'code': 0, 'name': 'ok', 'message': 'done'}, 'results': [{'name': 'roadaddr', 'code': {'id': '1123010600', 'type': 'L', 'mappingId': '09230106'}, 'region': {'area0': {'name': 'kr', 'coords': {'center': {'crs': '', 'x': 0.0, 'y': 0.0}}}, 'area1': {'name': '서울특별시', 'coords': {'center': {'crs': 'EPSG:4326', 'x': 126.9783882, 'y': 37.5666103}}, 'alias': '서울'}, 'area2': {'name': '동대문구', 'coords': {'center': {'crs': 'EPSG:4326', 'x': 127.03965, 'y': 37.574524}}}, 'area3': {'name': '장안동', 'coords': {'center': {'crs': 'EPSG:4326', 'x': 127.066375, 'y': 37.567842}}}, 'area4': {'name': '', 'coords': {'center': {'crs': '', 'x': 0.0, 'y': 0.0}}}}, 'land': {'type': '', 'number1': '79', 'number2': '', 'addition0': {'type': 'building', 'value': '장안동신일해피트리아파트'}, 'addition1': {'type': 'zipcode', 'value': '02632'}, 'addition2': {'type': 'roadGroupCode', 'value': '112304115563'}, 'addition3': {'type': '', 'value': ''}, 'addition4': {'type': '', 'value': ''}, 'name': '천호대로77길', 'coords': {'center': {'crs': '', 'x': 0.0, 'y': 0.0}}}}]}\n",
            "서울특별시 동대문구 천호대로77길 79 장안동신일해피트리아파트\n",
            "{'status': {'code': 0, 'name': 'ok', 'message': 'done'}, 'results': [{'name': 'roadaddr', 'code': {'id': '4161010600', 'type': 'L', 'mappingId': '02610106'}, 'region': {'area0': {'name': 'kr', 'coords': {'center': {'crs': '', 'x': 0.0, 'y': 0.0}}}, 'area1': {'name': '경기도', 'coords': {'center': {'crs': 'EPSG:4326', 'x': 127.550802, 'y': 37.4363177}}, 'alias': '경기'}, 'area2': {'name': '광주시', 'coords': {'center': {'crs': 'EPSG:4326', 'x': 127.2550476, 'y': 37.4294306}}}, 'area3': {'name': '목현동', 'coords': {'center': {'crs': 'EPSG:4326', 'x': 127.2161, 'y': 37.4325763}}}, 'area4': {'name': '', 'coords': {'center': {'crs': '', 'x': 0.0, 'y': 0.0}}}}, 'land': {'type': '', 'number1': '56', 'number2': '', 'addition0': {'type': 'building', 'value': ''}, 'addition1': {'type': 'zipcode', 'value': '12765'}, 'addition2': {'type': 'roadGroupCode', 'value': '416104433225'}, 'addition3': {'type': '', 'value': ''}, 'addition4': {'type': '', 'value': ''}, 'name': '밭말길', 'coords': {'center': {'crs': '', 'x': 0.0, 'y': 0.0}}}}]}\n",
            "경기도 광주시 밭말길 56 \n",
            "{'status': {'code': 3, 'name': 'no results', 'message': '요청한 데이타의 결과가 없습니다.'}, 'results': []}\n",
            "{'status': {'code': 0, 'name': 'ok', 'message': 'done'}, 'results': [{'name': 'roadaddr', 'code': {'id': '1111011000', 'type': 'L', 'mappingId': '09110110'}, 'region': {'area0': {'name': 'kr', 'coords': {'center': {'crs': '', 'x': 0.0, 'y': 0.0}}}, 'area1': {'name': '서울특별시', 'coords': {'center': {'crs': 'EPSG:4326', 'x': 126.9783882, 'y': 37.5666103}}, 'alias': '서울'}, 'area2': {'name': '종로구', 'coords': {'center': {'crs': 'EPSG:4326', 'x': 126.9788345, 'y': 37.5735207}}}, 'area3': {'name': '누하동', 'coords': {'center': {'crs': 'EPSG:4326', 'x': 126.968175, 'y': 37.579183}}}, 'area4': {'name': '', 'coords': {'center': {'crs': '', 'x': 0.0, 'y': 0.0}}}}, 'land': {'type': '', 'number1': '9', 'number2': '1', 'addition0': {'type': 'building', 'value': ''}, 'addition1': {'type': 'zipcode', 'value': '03039'}, 'addition2': {'type': 'roadGroupCode', 'value': '111104100528'}, 'addition3': {'type': '', 'value': ''}, 'addition4': {'type': '', 'value': ''}, 'name': '필운대로5길', 'coords': {'center': {'crs': '', 'x': 0.0, 'y': 0.0}}}}]}\n",
            "서울특별시 종로구 필운대로5길 9 \n",
            "{'status': {'code': 3, 'name': 'no results', 'message': '요청한 데이타의 결과가 없습니다.'}, 'results': []}\n",
            "{'status': {'code': 3, 'name': 'no results', 'message': '요청한 데이타의 결과가 없습니다.'}, 'results': []}\n",
            "{'status': {'code': 3, 'name': 'no results', 'message': '요청한 데이타의 결과가 없습니다.'}, 'results': []}\n",
            "{'status': {'code': 0, 'name': 'ok', 'message': 'done'}, 'results': [{'name': 'roadaddr', 'code': {'id': '1129010300', 'type': 'L', 'mappingId': '09290103'}, 'region': {'area0': {'name': 'kr', 'coords': {'center': {'crs': '', 'x': 0.0, 'y': 0.0}}}, 'area1': {'name': '서울특별시', 'coords': {'center': {'crs': 'EPSG:4326', 'x': 126.9783882, 'y': 37.5666103}}, 'alias': '서울'}, 'area2': {'name': '성북구', 'coords': {'center': {'crs': 'EPSG:4326', 'x': 127.016749, 'y': 37.5894}}}, 'area3': {'name': '돈암동', 'coords': {'center': {'crs': 'EPSG:4326', 'x': 127.0263875, 'y': 37.6034071}}}, 'area4': {'name': '', 'coords': {'center': {'crs': '', 'x': 0.0, 'y': 0.0}}}}, 'land': {'type': '', 'number1': '109', 'number2': '', 'addition0': {'type': 'building', 'value': ''}, 'addition1': {'type': 'zipcode', 'value': '02840'}, 'addition2': {'type': 'roadGroupCode', 'value': '112904121102'}, 'addition3': {'type': '', 'value': ''}, 'addition4': {'type': '', 'value': ''}, 'name': '동소문로26가길', 'coords': {'center': {'crs': '', 'x': 0.0, 'y': 0.0}}}}]}\n",
            "서울특별시 성북구 동소문로26가길 109 \n"
          ]
        },
        {
          "output_type": "execute_result",
          "data": {
            "text/html": [
              "<div style=\"width:100%;\"><div style=\"position:relative;width:100%;height:0;padding-bottom:60%;\"><span style=\"color:#565656\">Make this Notebook Trusted to load map: File -> Trust Notebook</span><iframe src=\"about:blank\" style=\"position:absolute;width:100%;height:100%;left:0;top:0;border:none !important;\" data-html=%3C%21DOCTYPE%20html%3E%0A%3Chead%3E%20%20%20%20%0A%20%20%20%20%3Cmeta%20http-equiv%3D%22content-type%22%20content%3D%22text/html%3B%20charset%3DUTF-8%22%20/%3E%0A%20%20%20%20%3Cscript%3EL_PREFER_CANVAS%3Dfalse%3B%20L_NO_TOUCH%3Dfalse%3B%20L_DISABLE_3D%3Dfalse%3B%3C/script%3E%0A%20%20%20%20%3Cscript%20src%3D%22https%3A//cdn.jsdelivr.net/npm/leaflet%401.4.0/dist/leaflet.js%22%3E%3C/script%3E%0A%20%20%20%20%3Cscript%20src%3D%22https%3A//code.jquery.com/jquery-1.12.4.min.js%22%3E%3C/script%3E%0A%20%20%20%20%3Cscript%20src%3D%22https%3A//maxcdn.bootstrapcdn.com/bootstrap/3.2.0/js/bootstrap.min.js%22%3E%3C/script%3E%0A%20%20%20%20%3Cscript%20src%3D%22https%3A//cdnjs.cloudflare.com/ajax/libs/Leaflet.awesome-markers/2.0.2/leaflet.awesome-markers.js%22%3E%3C/script%3E%0A%20%20%20%20%3Clink%20rel%3D%22stylesheet%22%20href%3D%22https%3A//cdn.jsdelivr.net/npm/leaflet%401.4.0/dist/leaflet.css%22/%3E%0A%20%20%20%20%3Clink%20rel%3D%22stylesheet%22%20href%3D%22https%3A//maxcdn.bootstrapcdn.com/bootstrap/3.2.0/css/bootstrap.min.css%22/%3E%0A%20%20%20%20%3Clink%20rel%3D%22stylesheet%22%20href%3D%22https%3A//maxcdn.bootstrapcdn.com/bootstrap/3.2.0/css/bootstrap-theme.min.css%22/%3E%0A%20%20%20%20%3Clink%20rel%3D%22stylesheet%22%20href%3D%22https%3A//maxcdn.bootstrapcdn.com/font-awesome/4.6.3/css/font-awesome.min.css%22/%3E%0A%20%20%20%20%3Clink%20rel%3D%22stylesheet%22%20href%3D%22https%3A//cdnjs.cloudflare.com/ajax/libs/Leaflet.awesome-markers/2.0.2/leaflet.awesome-markers.css%22/%3E%0A%20%20%20%20%3Clink%20rel%3D%22stylesheet%22%20href%3D%22https%3A//rawcdn.githack.com/python-visualization/folium/master/folium/templates/leaflet.awesome.rotate.css%22/%3E%0A%20%20%20%20%3Cstyle%3Ehtml%2C%20body%20%7Bwidth%3A%20100%25%3Bheight%3A%20100%25%3Bmargin%3A%200%3Bpadding%3A%200%3B%7D%3C/style%3E%0A%20%20%20%20%3Cstyle%3E%23map%20%7Bposition%3Aabsolute%3Btop%3A0%3Bbottom%3A0%3Bright%3A0%3Bleft%3A0%3B%7D%3C/style%3E%0A%20%20%20%20%0A%20%20%20%20%3Cmeta%20name%3D%22viewport%22%20content%3D%22width%3Ddevice-width%2C%0A%20%20%20%20%20%20%20%20initial-scale%3D1.0%2C%20maximum-scale%3D1.0%2C%20user-scalable%3Dno%22%20/%3E%0A%20%20%20%20%3Cstyle%3E%23map_227436eb9be2425fb0179a53b25b0483%20%7B%0A%20%20%20%20%20%20%20%20position%3A%20relative%3B%0A%20%20%20%20%20%20%20%20width%3A%20100.0%25%3B%0A%20%20%20%20%20%20%20%20height%3A%20100.0%25%3B%0A%20%20%20%20%20%20%20%20left%3A%200.0%25%3B%0A%20%20%20%20%20%20%20%20top%3A%200.0%25%3B%0A%20%20%20%20%20%20%20%20%7D%0A%20%20%20%20%3C/style%3E%0A%3C/head%3E%0A%3Cbody%3E%20%20%20%20%0A%20%20%20%20%0A%20%20%20%20%3Cdiv%20class%3D%22folium-map%22%20id%3D%22map_227436eb9be2425fb0179a53b25b0483%22%20%3E%3C/div%3E%0A%3C/body%3E%0A%3Cscript%3E%20%20%20%20%0A%20%20%20%20%0A%20%20%20%20%0A%20%20%20%20%20%20%20%20var%20bounds%20%3D%20null%3B%0A%20%20%20%20%0A%0A%20%20%20%20var%20map_227436eb9be2425fb0179a53b25b0483%20%3D%20L.map%28%0A%20%20%20%20%20%20%20%20%27map_227436eb9be2425fb0179a53b25b0483%27%2C%20%7B%0A%20%20%20%20%20%20%20%20center%3A%20%5B37.59521595968792%2C%20126.93677269169018%5D%2C%0A%20%20%20%20%20%20%20%20zoom%3A%2010%2C%0A%20%20%20%20%20%20%20%20maxBounds%3A%20bounds%2C%0A%20%20%20%20%20%20%20%20layers%3A%20%5B%5D%2C%0A%20%20%20%20%20%20%20%20worldCopyJump%3A%20false%2C%0A%20%20%20%20%20%20%20%20crs%3A%20L.CRS.EPSG3857%2C%0A%20%20%20%20%20%20%20%20zoomControl%3A%20true%2C%0A%20%20%20%20%20%20%20%20%7D%29%3B%0A%0A%0A%20%20%20%20%0A%20%20%20%20var%20tile_layer_d7176a55a0224b2faf355a5fcf9e2fee%20%3D%20L.tileLayer%28%0A%20%20%20%20%20%20%20%20%27https%3A//%7Bs%7D.tile.openstreetmap.org/%7Bz%7D/%7Bx%7D/%7By%7D.png%27%2C%0A%20%20%20%20%20%20%20%20%7B%0A%20%20%20%20%20%20%20%20%22attribution%22%3A%20null%2C%0A%20%20%20%20%20%20%20%20%22detectRetina%22%3A%20false%2C%0A%20%20%20%20%20%20%20%20%22maxNativeZoom%22%3A%2018%2C%0A%20%20%20%20%20%20%20%20%22maxZoom%22%3A%2018%2C%0A%20%20%20%20%20%20%20%20%22minZoom%22%3A%200%2C%0A%20%20%20%20%20%20%20%20%22noWrap%22%3A%20false%2C%0A%20%20%20%20%20%20%20%20%22opacity%22%3A%201%2C%0A%20%20%20%20%20%20%20%20%22subdomains%22%3A%20%22abc%22%2C%0A%20%20%20%20%20%20%20%20%22tms%22%3A%20false%0A%7D%29.addTo%28map_227436eb9be2425fb0179a53b25b0483%29%3B%0A%20%20%20%20%0A%20%20%20%20%20%20%20%20var%20marker_18caeec05020497d87d6d629eecefcd8%20%3D%20L.marker%28%0A%20%20%20%20%20%20%20%20%20%20%20%20%5B37.59847019865914%2C%20126.93229461907063%5D%2C%0A%20%20%20%20%20%20%20%20%20%20%20%20%7B%0A%20%20%20%20%20%20%20%20%20%20%20%20%20%20%20%20icon%3A%20new%20L.Icon.Default%28%29%2C%0A%20%20%20%20%20%20%20%20%20%20%20%20%20%20%20%20%7D%0A%20%20%20%20%20%20%20%20%20%20%20%20%29.addTo%28map_227436eb9be2425fb0179a53b25b0483%29%3B%0A%20%20%20%20%20%20%20%20%0A%20%20%20%20%0A%20%20%20%20%20%20%20%20marker_18caeec05020497d87d6d629eecefcd8.bindTooltip%28%0A%20%20%20%20%20%20%20%20%20%20%20%20%60%3Cdiv%3E%60%0A%20%20%20%20%20%20%20%20%20%20%20%20%2B%20%60%EC%84%9C%EC%9A%B8%ED%8A%B9%EB%B3%84%EC%8B%9C%20%EC%9D%80%ED%8F%89%EA%B5%AC%20%EC%9D%80%ED%8F%89%EB%A1%9C%20220%20%EB%85%B9%EB%B2%88%EC%97%ADe%ED%8E%B8%ED%95%9C%EC%84%B8%EC%83%81%EC%BA%90%EC%8A%AC%60%20%2B%20%60%3C/div%3E%60%2C%0A%20%20%20%20%20%20%20%20%20%20%20%20%7B%22sticky%22%3A%20true%7D%0A%20%20%20%20%20%20%20%20%29%3B%0A%20%20%20%20%20%20%20%20%0A%20%20%20%20%0A%20%20%20%20%20%20%20%20var%20marker_dbc2df0f7a1f471aa7ed2fb3b0189528%20%3D%20L.marker%28%0A%20%20%20%20%20%20%20%20%20%20%20%20%5B37.59786146300367%2C%20127.04620571811007%5D%2C%0A%20%20%20%20%20%20%20%20%20%20%20%20%7B%0A%20%20%20%20%20%20%20%20%20%20%20%20%20%20%20%20icon%3A%20new%20L.Icon.Default%28%29%2C%0A%20%20%20%20%20%20%20%20%20%20%20%20%20%20%20%20%7D%0A%20%20%20%20%20%20%20%20%20%20%20%20%29.addTo%28map_227436eb9be2425fb0179a53b25b0483%29%3B%0A%20%20%20%20%20%20%20%20%0A%20%20%20%20%0A%20%20%20%20%20%20%20%20marker_dbc2df0f7a1f471aa7ed2fb3b0189528.bindTooltip%28%0A%20%20%20%20%20%20%20%20%20%20%20%20%60%3Cdiv%3E%60%0A%20%20%20%20%20%20%20%20%20%20%20%20%2B%20%60%EC%A3%BC%EC%86%8C%20%EC%A0%95%EB%B3%B4%EA%B0%80%20%EC%97%86%EC%8A%B5%EB%8B%88%EB%8B%A4%60%20%2B%20%60%3C/div%3E%60%2C%0A%20%20%20%20%20%20%20%20%20%20%20%20%7B%22sticky%22%3A%20true%7D%0A%20%20%20%20%20%20%20%20%29%3B%0A%20%20%20%20%20%20%20%20%0A%20%20%20%20%0A%20%20%20%20%20%20%20%20var%20marker_9803a123733640a4a3a34ddc28538f31%20%3D%20L.marker%28%0A%20%20%20%20%20%20%20%20%20%20%20%20%5B37.63959005093059%2C%20126.82631220977417%5D%2C%0A%20%20%20%20%20%20%20%20%20%20%20%20%7B%0A%20%20%20%20%20%20%20%20%20%20%20%20%20%20%20%20icon%3A%20new%20L.Icon.Default%28%29%2C%0A%20%20%20%20%20%20%20%20%20%20%20%20%20%20%20%20%7D%0A%20%20%20%20%20%20%20%20%20%20%20%20%29.addTo%28map_227436eb9be2425fb0179a53b25b0483%29%3B%0A%20%20%20%20%20%20%20%20%0A%20%20%20%20%0A%20%20%20%20%20%20%20%20marker_9803a123733640a4a3a34ddc28538f31.bindTooltip%28%0A%20%20%20%20%20%20%20%20%20%20%20%20%60%3Cdiv%3E%60%0A%20%20%20%20%20%20%20%20%20%20%20%20%2B%20%60%EA%B2%BD%EA%B8%B0%EB%8F%84%20%EA%B3%A0%EC%96%91%EC%8B%9C%20%EB%8D%95%EC%96%91%EA%B5%AC%20%ED%98%B8%EA%B5%AD%EB%A1%9C%20571%20%60%20%2B%20%60%3C/div%3E%60%2C%0A%20%20%20%20%20%20%20%20%20%20%20%20%7B%22sticky%22%3A%20true%7D%0A%20%20%20%20%20%20%20%20%29%3B%0A%20%20%20%20%20%20%20%20%0A%20%20%20%20%0A%20%20%20%20%20%20%20%20var%20marker_73057502e6624ce98ddf67b6c619c21a%20%3D%20L.marker%28%0A%20%20%20%20%20%20%20%20%20%20%20%20%5B37.455163461334905%2C%20126.8908130686419%5D%2C%0A%20%20%20%20%20%20%20%20%20%20%20%20%7B%0A%20%20%20%20%20%20%20%20%20%20%20%20%20%20%20%20icon%3A%20new%20L.Icon.Default%28%29%2C%0A%20%20%20%20%20%20%20%20%20%20%20%20%20%20%20%20%7D%0A%20%20%20%20%20%20%20%20%20%20%20%20%29.addTo%28map_227436eb9be2425fb0179a53b25b0483%29%3B%0A%20%20%20%20%20%20%20%20%0A%20%20%20%20%0A%20%20%20%20%20%20%20%20marker_73057502e6624ce98ddf67b6c619c21a.bindTooltip%28%0A%20%20%20%20%20%20%20%20%20%20%20%20%60%3Cdiv%3E%60%0A%20%20%20%20%20%20%20%20%20%20%20%20%2B%20%60%EC%A3%BC%EC%86%8C%20%EC%A0%95%EB%B3%B4%EA%B0%80%20%EC%97%86%EC%8A%B5%EB%8B%88%EB%8B%A4%60%20%2B%20%60%3C/div%3E%60%2C%0A%20%20%20%20%20%20%20%20%20%20%20%20%7B%22sticky%22%3A%20true%7D%0A%20%20%20%20%20%20%20%20%29%3B%0A%20%20%20%20%20%20%20%20%0A%20%20%20%20%0A%20%20%20%20%20%20%20%20var%20marker_42506ccfff1145dc8483bd1206e890db%20%3D%20L.marker%28%0A%20%20%20%20%20%20%20%20%20%20%20%20%5B37.54983501776668%2C%20126.8758196509127%5D%2C%0A%20%20%20%20%20%20%20%20%20%20%20%20%7B%0A%20%20%20%20%20%20%20%20%20%20%20%20%20%20%20%20icon%3A%20new%20L.Icon.Default%28%29%2C%0A%20%20%20%20%20%20%20%20%20%20%20%20%20%20%20%20%7D%0A%20%20%20%20%20%20%20%20%20%20%20%20%29.addTo%28map_227436eb9be2425fb0179a53b25b0483%29%3B%0A%20%20%20%20%20%20%20%20%0A%20%20%20%20%0A%20%20%20%20%20%20%20%20marker_42506ccfff1145dc8483bd1206e890db.bindTooltip%28%0A%20%20%20%20%20%20%20%20%20%20%20%20%60%3Cdiv%3E%60%0A%20%20%20%20%20%20%20%20%20%20%20%20%2B%20%60%EC%84%9C%EC%9A%B8%ED%8A%B9%EB%B3%84%EC%8B%9C%20%EA%B0%95%EC%84%9C%EA%B5%AC%20%EC%96%91%EC%B2%9C%EB%A1%9C%20717%20%60%20%2B%20%60%3C/div%3E%60%2C%0A%20%20%20%20%20%20%20%20%20%20%20%20%7B%22sticky%22%3A%20true%7D%0A%20%20%20%20%20%20%20%20%29%3B%0A%20%20%20%20%20%20%20%20%0A%20%20%20%20%0A%20%20%20%20%20%20%20%20var%20marker_48f6026936ac4eeba58d73a12016d8ae%20%3D%20L.marker%28%0A%20%20%20%20%20%20%20%20%20%20%20%20%5B37.584807471972844%2C%20127.13306988563984%5D%2C%0A%20%20%20%20%20%20%20%20%20%20%20%20%7B%0A%20%20%20%20%20%20%20%20%20%20%20%20%20%20%20%20icon%3A%20new%20L.Icon.Default%28%29%2C%0A%20%20%20%20%20%20%20%20%20%20%20%20%20%20%20%20%7D%0A%20%20%20%20%20%20%20%20%20%20%20%20%29.addTo%28map_227436eb9be2425fb0179a53b25b0483%29%3B%0A%20%20%20%20%20%20%20%20%0A%20%20%20%20%0A%20%20%20%20%20%20%20%20marker_48f6026936ac4eeba58d73a12016d8ae.bindTooltip%28%0A%20%20%20%20%20%20%20%20%20%20%20%20%60%3Cdiv%3E%60%0A%20%20%20%20%20%20%20%20%20%20%20%20%2B%20%60%EC%A3%BC%EC%86%8C%20%EC%A0%95%EB%B3%B4%EA%B0%80%20%EC%97%86%EC%8A%B5%EB%8B%88%EB%8B%A4%60%20%2B%20%60%3C/div%3E%60%2C%0A%20%20%20%20%20%20%20%20%20%20%20%20%7B%22sticky%22%3A%20true%7D%0A%20%20%20%20%20%20%20%20%29%3B%0A%20%20%20%20%20%20%20%20%0A%20%20%20%20%0A%20%20%20%20%20%20%20%20var%20marker_74ae6c2cc9cc489ea68b089a5e945742%20%3D%20L.marker%28%0A%20%20%20%20%20%20%20%20%20%20%20%20%5B37.68029566997948%2C%20126.8519736885197%5D%2C%0A%20%20%20%20%20%20%20%20%20%20%20%20%7B%0A%20%20%20%20%20%20%20%20%20%20%20%20%20%20%20%20icon%3A%20new%20L.Icon.Default%28%29%2C%0A%20%20%20%20%20%20%20%20%20%20%20%20%20%20%20%20%7D%0A%20%20%20%20%20%20%20%20%20%20%20%20%29.addTo%28map_227436eb9be2425fb0179a53b25b0483%29%3B%0A%20%20%20%20%20%20%20%20%0A%20%20%20%20%0A%20%20%20%20%20%20%20%20marker_74ae6c2cc9cc489ea68b089a5e945742.bindTooltip%28%0A%20%20%20%20%20%20%20%20%20%20%20%20%60%3Cdiv%3E%60%0A%20%20%20%20%20%20%20%20%20%20%20%20%2B%20%60%EC%A3%BC%EC%86%8C%20%EC%A0%95%EB%B3%B4%EA%B0%80%20%EC%97%86%EC%8A%B5%EB%8B%88%EB%8B%A4%60%20%2B%20%60%3C/div%3E%60%2C%0A%20%20%20%20%20%20%20%20%20%20%20%20%7B%22sticky%22%3A%20true%7D%0A%20%20%20%20%20%20%20%20%29%3B%0A%20%20%20%20%20%20%20%20%0A%20%20%20%20%0A%20%20%20%20%20%20%20%20var%20marker_f9fd851dc04f4c78a42ea32aef94d483%20%3D%20L.marker%28%0A%20%20%20%20%20%20%20%20%20%20%20%20%5B37.58049517802884%2C%20126.75859144274662%5D%2C%0A%20%20%20%20%20%20%20%20%20%20%20%20%7B%0A%20%20%20%20%20%20%20%20%20%20%20%20%20%20%20%20icon%3A%20new%20L.Icon.Default%28%29%2C%0A%20%20%20%20%20%20%20%20%20%20%20%20%20%20%20%20%7D%0A%20%20%20%20%20%20%20%20%20%20%20%20%29.addTo%28map_227436eb9be2425fb0179a53b25b0483%29%3B%0A%20%20%20%20%20%20%20%20%0A%20%20%20%20%0A%20%20%20%20%20%20%20%20marker_f9fd851dc04f4c78a42ea32aef94d483.bindTooltip%28%0A%20%20%20%20%20%20%20%20%20%20%20%20%60%3Cdiv%3E%60%0A%20%20%20%20%20%20%20%20%20%20%20%20%2B%20%60%EC%A3%BC%EC%86%8C%20%EC%A0%95%EB%B3%B4%EA%B0%80%20%EC%97%86%EC%8A%B5%EB%8B%88%EB%8B%A4%60%20%2B%20%60%3C/div%3E%60%2C%0A%20%20%20%20%20%20%20%20%20%20%20%20%7B%22sticky%22%3A%20true%7D%0A%20%20%20%20%20%20%20%20%29%3B%0A%20%20%20%20%20%20%20%20%0A%20%20%20%20%0A%20%20%20%20%20%20%20%20var%20marker_7c87e99ea8a04de4ba9ec07320d52518%20%3D%20L.marker%28%0A%20%20%20%20%20%20%20%20%20%20%20%20%5B37.609942095556484%2C%20126.99340538145786%5D%2C%0A%20%20%20%20%20%20%20%20%20%20%20%20%7B%0A%20%20%20%20%20%20%20%20%20%20%20%20%20%20%20%20icon%3A%20new%20L.Icon.Default%28%29%2C%0A%20%20%20%20%20%20%20%20%20%20%20%20%20%20%20%20%7D%0A%20%20%20%20%20%20%20%20%20%20%20%20%29.addTo%28map_227436eb9be2425fb0179a53b25b0483%29%3B%0A%20%20%20%20%20%20%20%20%0A%20%20%20%20%0A%20%20%20%20%20%20%20%20marker_7c87e99ea8a04de4ba9ec07320d52518.bindTooltip%28%0A%20%20%20%20%20%20%20%20%20%20%20%20%60%3Cdiv%3E%60%0A%20%20%20%20%20%20%20%20%20%20%20%20%2B%20%60%EC%A3%BC%EC%86%8C%20%EC%A0%95%EB%B3%B4%EA%B0%80%20%EC%97%86%EC%8A%B5%EB%8B%88%EB%8B%A4%60%20%2B%20%60%3C/div%3E%60%2C%0A%20%20%20%20%20%20%20%20%20%20%20%20%7B%22sticky%22%3A%20true%7D%0A%20%20%20%20%20%20%20%20%29%3B%0A%20%20%20%20%20%20%20%20%0A%20%20%20%20%0A%20%20%20%20%20%20%20%20var%20marker_48e5e0217c6c4ed5a0889990a4228787%20%3D%20L.marker%28%0A%20%20%20%20%20%20%20%20%20%20%20%20%5B37.64086472326455%2C%20126.7888858911638%5D%2C%0A%20%20%20%20%20%20%20%20%20%20%20%20%7B%0A%20%20%20%20%20%20%20%20%20%20%20%20%20%20%20%20icon%3A%20new%20L.Icon.Default%28%29%2C%0A%20%20%20%20%20%20%20%20%20%20%20%20%20%20%20%20%7D%0A%20%20%20%20%20%20%20%20%20%20%20%20%29.addTo%28map_227436eb9be2425fb0179a53b25b0483%29%3B%0A%20%20%20%20%20%20%20%20%0A%20%20%20%20%0A%20%20%20%20%20%20%20%20marker_48e5e0217c6c4ed5a0889990a4228787.bindTooltip%28%0A%20%20%20%20%20%20%20%20%20%20%20%20%60%3Cdiv%3E%60%0A%20%20%20%20%20%20%20%20%20%20%20%20%2B%20%60%EA%B2%BD%EA%B8%B0%EB%8F%84%20%EA%B3%A0%EC%96%91%EC%8B%9C%20%EC%9D%BC%EC%82%B0%EB%8F%99%EA%B5%AC%20%EC%9E%A5%EB%B0%B1%EB%A1%9C%2025%20%EC%BD%94%EC%8A%A4%ED%8A%B8%EC%BD%94%20%EC%9D%BC%EC%82%B0%EC%A0%90%60%20%2B%20%60%3C/div%3E%60%2C%0A%20%20%20%20%20%20%20%20%20%20%20%20%7B%22sticky%22%3A%20true%7D%0A%20%20%20%20%20%20%20%20%29%3B%0A%20%20%20%20%20%20%20%20%0A%20%20%20%20%0A%20%20%20%20%20%20%20%20var%20marker_3a925f40124541f39d01a8e46feccf17%20%3D%20L.marker%28%0A%20%20%20%20%20%20%20%20%20%20%20%20%5B37.63851669167462%2C%20126.94125076430973%5D%2C%0A%20%20%20%20%20%20%20%20%20%20%20%20%7B%0A%20%20%20%20%20%20%20%20%20%20%20%20%20%20%20%20icon%3A%20new%20L.Icon.Default%28%29%2C%0A%20%20%20%20%20%20%20%20%20%20%20%20%20%20%20%20%7D%0A%20%20%20%20%20%20%20%20%20%20%20%20%29.addTo%28map_227436eb9be2425fb0179a53b25b0483%29%3B%0A%20%20%20%20%20%20%20%20%0A%20%20%20%20%0A%20%20%20%20%20%20%20%20marker_3a925f40124541f39d01a8e46feccf17.bindTooltip%28%0A%20%20%20%20%20%20%20%20%20%20%20%20%60%3Cdiv%3E%60%0A%20%20%20%20%20%20%20%20%20%20%20%20%2B%20%60%EC%A3%BC%EC%86%8C%20%EC%A0%95%EB%B3%B4%EA%B0%80%20%EC%97%86%EC%8A%B5%EB%8B%88%EB%8B%A4%60%20%2B%20%60%3C/div%3E%60%2C%0A%20%20%20%20%20%20%20%20%20%20%20%20%7B%22sticky%22%3A%20true%7D%0A%20%20%20%20%20%20%20%20%29%3B%0A%20%20%20%20%20%20%20%20%0A%20%20%20%20%0A%20%20%20%20%20%20%20%20var%20marker_bde1330cb45f45559d61b7465e04744c%20%3D%20L.marker%28%0A%20%20%20%20%20%20%20%20%20%20%20%20%5B37.62571058830044%2C%20126.82984250203835%5D%2C%0A%20%20%20%20%20%20%20%20%20%20%20%20%7B%0A%20%20%20%20%20%20%20%20%20%20%20%20%20%20%20%20icon%3A%20new%20L.Icon.Default%28%29%2C%0A%20%20%20%20%20%20%20%20%20%20%20%20%20%20%20%20%7D%0A%20%20%20%20%20%20%20%20%20%20%20%20%29.addTo%28map_227436eb9be2425fb0179a53b25b0483%29%3B%0A%20%20%20%20%20%20%20%20%0A%20%20%20%20%0A%20%20%20%20%20%20%20%20marker_bde1330cb45f45559d61b7465e04744c.bindTooltip%28%0A%20%20%20%20%20%20%20%20%20%20%20%20%60%3Cdiv%3E%60%0A%20%20%20%20%20%20%20%20%20%20%20%20%2B%20%60%EA%B2%BD%EA%B8%B0%EB%8F%84%20%EA%B3%A0%EC%96%91%EC%8B%9C%20%EB%8D%95%EC%96%91%EA%B5%AC%20%EC%A4%91%EC%95%99%EB%A1%9C633%EB%B2%88%EA%B8%B8%2025%20%EA%B3%A0%EC%96%91%EC%8B%9C%EC%B2%AD%EC%86%8C%EB%85%84%EC%88%98%EB%A0%A8%EA%B4%80%60%20%2B%20%60%3C/div%3E%60%2C%0A%20%20%20%20%20%20%20%20%20%20%20%20%7B%22sticky%22%3A%20true%7D%0A%20%20%20%20%20%20%20%20%29%3B%0A%20%20%20%20%20%20%20%20%0A%20%20%20%20%0A%20%20%20%20%20%20%20%20var%20marker_0a5b7bc28c9e455aabece2b3ff0edb5e%20%3D%20L.marker%28%0A%20%20%20%20%20%20%20%20%20%20%20%20%5B37.565233000076994%2C%20127.06274839501557%5D%2C%0A%20%20%20%20%20%20%20%20%20%20%20%20%7B%0A%20%20%20%20%20%20%20%20%20%20%20%20%20%20%20%20icon%3A%20new%20L.Icon.Default%28%29%2C%0A%20%20%20%20%20%20%20%20%20%20%20%20%20%20%20%20%7D%0A%20%20%20%20%20%20%20%20%20%20%20%20%29.addTo%28map_227436eb9be2425fb0179a53b25b0483%29%3B%0A%20%20%20%20%20%20%20%20%0A%20%20%20%20%0A%20%20%20%20%20%20%20%20marker_0a5b7bc28c9e455aabece2b3ff0edb5e.bindTooltip%28%0A%20%20%20%20%20%20%20%20%20%20%20%20%60%3Cdiv%3E%60%0A%20%20%20%20%20%20%20%20%20%20%20%20%2B%20%60%EC%84%9C%EC%9A%B8%ED%8A%B9%EB%B3%84%EC%8B%9C%20%EB%8F%99%EB%8C%80%EB%AC%B8%EA%B5%AC%20%EC%B2%9C%ED%98%B8%EB%8C%80%EB%A1%9C77%EA%B8%B8%2079%20%EC%9E%A5%EC%95%88%EB%8F%99%EC%8B%A0%EC%9D%BC%ED%95%B4%ED%94%BC%ED%8A%B8%EB%A6%AC%EC%95%84%ED%8C%8C%ED%8A%B8%60%20%2B%20%60%3C/div%3E%60%2C%0A%20%20%20%20%20%20%20%20%20%20%20%20%7B%22sticky%22%3A%20true%7D%0A%20%20%20%20%20%20%20%20%29%3B%0A%20%20%20%20%20%20%20%20%0A%20%20%20%20%0A%20%20%20%20%20%20%20%20var%20marker_99c66d98cc3d4270bc270ad73a6af29e%20%3D%20L.marker%28%0A%20%20%20%20%20%20%20%20%20%20%20%20%5B37.43655979046195%2C%20127.20446818111208%5D%2C%0A%20%20%20%20%20%20%20%20%20%20%20%20%7B%0A%20%20%20%20%20%20%20%20%20%20%20%20%20%20%20%20icon%3A%20new%20L.Icon.Default%28%29%2C%0A%20%20%20%20%20%20%20%20%20%20%20%20%20%20%20%20%7D%0A%20%20%20%20%20%20%20%20%20%20%20%20%29.addTo%28map_227436eb9be2425fb0179a53b25b0483%29%3B%0A%20%20%20%20%20%20%20%20%0A%20%20%20%20%0A%20%20%20%20%20%20%20%20marker_99c66d98cc3d4270bc270ad73a6af29e.bindTooltip%28%0A%20%20%20%20%20%20%20%20%20%20%20%20%60%3Cdiv%3E%60%0A%20%20%20%20%20%20%20%20%20%20%20%20%2B%20%60%EA%B2%BD%EA%B8%B0%EB%8F%84%20%EA%B4%91%EC%A3%BC%EC%8B%9C%20%EB%B0%AD%EB%A7%90%EA%B8%B8%2056%20%60%20%2B%20%60%3C/div%3E%60%2C%0A%20%20%20%20%20%20%20%20%20%20%20%20%7B%22sticky%22%3A%20true%7D%0A%20%20%20%20%20%20%20%20%29%3B%0A%20%20%20%20%20%20%20%20%0A%20%20%20%20%0A%20%20%20%20%20%20%20%20var%20marker_fe12c2ba30eb4fc08326b26bcfcb5fa6%20%3D%20L.marker%28%0A%20%20%20%20%20%20%20%20%20%20%20%20%5B37.6364941513601%2C%20127.24001756082734%5D%2C%0A%20%20%20%20%20%20%20%20%20%20%20%20%7B%0A%20%20%20%20%20%20%20%20%20%20%20%20%20%20%20%20icon%3A%20new%20L.Icon.Default%28%29%2C%0A%20%20%20%20%20%20%20%20%20%20%20%20%20%20%20%20%7D%0A%20%20%20%20%20%20%20%20%20%20%20%20%29.addTo%28map_227436eb9be2425fb0179a53b25b0483%29%3B%0A%20%20%20%20%20%20%20%20%0A%20%20%20%20%0A%20%20%20%20%20%20%20%20marker_fe12c2ba30eb4fc08326b26bcfcb5fa6.bindTooltip%28%0A%20%20%20%20%20%20%20%20%20%20%20%20%60%3Cdiv%3E%60%0A%20%20%20%20%20%20%20%20%20%20%20%20%2B%20%60%EC%A3%BC%EC%86%8C%20%EC%A0%95%EB%B3%B4%EA%B0%80%20%EC%97%86%EC%8A%B5%EB%8B%88%EB%8B%A4%60%20%2B%20%60%3C/div%3E%60%2C%0A%20%20%20%20%20%20%20%20%20%20%20%20%7B%22sticky%22%3A%20true%7D%0A%20%20%20%20%20%20%20%20%29%3B%0A%20%20%20%20%20%20%20%20%0A%20%20%20%20%0A%20%20%20%20%20%20%20%20var%20marker_ce6d60bed1c64bb6bf426ccfb83f4fff%20%3D%20L.marker%28%0A%20%20%20%20%20%20%20%20%20%20%20%20%5B37.57927788147562%2C%20126.96818522392755%5D%2C%0A%20%20%20%20%20%20%20%20%20%20%20%20%7B%0A%20%20%20%20%20%20%20%20%20%20%20%20%20%20%20%20icon%3A%20new%20L.Icon.Default%28%29%2C%0A%20%20%20%20%20%20%20%20%20%20%20%20%20%20%20%20%7D%0A%20%20%20%20%20%20%20%20%20%20%20%20%29.addTo%28map_227436eb9be2425fb0179a53b25b0483%29%3B%0A%20%20%20%20%20%20%20%20%0A%20%20%20%20%0A%20%20%20%20%20%20%20%20marker_ce6d60bed1c64bb6bf426ccfb83f4fff.bindTooltip%28%0A%20%20%20%20%20%20%20%20%20%20%20%20%60%3Cdiv%3E%60%0A%20%20%20%20%20%20%20%20%20%20%20%20%2B%20%60%EC%84%9C%EC%9A%B8%ED%8A%B9%EB%B3%84%EC%8B%9C%20%EC%A2%85%EB%A1%9C%EA%B5%AC%20%ED%95%84%EC%9A%B4%EB%8C%80%EB%A1%9C5%EA%B8%B8%209%20%60%20%2B%20%60%3C/div%3E%60%2C%0A%20%20%20%20%20%20%20%20%20%20%20%20%7B%22sticky%22%3A%20true%7D%0A%20%20%20%20%20%20%20%20%29%3B%0A%20%20%20%20%20%20%20%20%0A%20%20%20%20%0A%20%20%20%20%20%20%20%20var%20marker_946454aee436471eb8804848eff17626%20%3D%20L.marker%28%0A%20%20%20%20%20%20%20%20%20%20%20%20%5B37.53250005946747%2C%20126.80334802769455%5D%2C%0A%20%20%20%20%20%20%20%20%20%20%20%20%7B%0A%20%20%20%20%20%20%20%20%20%20%20%20%20%20%20%20icon%3A%20new%20L.Icon.Default%28%29%2C%0A%20%20%20%20%20%20%20%20%20%20%20%20%20%20%20%20%7D%0A%20%20%20%20%20%20%20%20%20%20%20%20%29.addTo%28map_227436eb9be2425fb0179a53b25b0483%29%3B%0A%20%20%20%20%20%20%20%20%0A%20%20%20%20%0A%20%20%20%20%20%20%20%20marker_946454aee436471eb8804848eff17626.bindTooltip%28%0A%20%20%20%20%20%20%20%20%20%20%20%20%60%3Cdiv%3E%60%0A%20%20%20%20%20%20%20%20%20%20%20%20%2B%20%60%EC%A3%BC%EC%86%8C%20%EC%A0%95%EB%B3%B4%EA%B0%80%20%EC%97%86%EC%8A%B5%EB%8B%88%EB%8B%A4%60%20%2B%20%60%3C/div%3E%60%2C%0A%20%20%20%20%20%20%20%20%20%20%20%20%7B%22sticky%22%3A%20true%7D%0A%20%20%20%20%20%20%20%20%29%3B%0A%20%20%20%20%20%20%20%20%0A%20%20%20%20%0A%20%20%20%20%20%20%20%20var%20marker_c7e44fbac57c4bfd9e704d28e65c0c18%20%3D%20L.marker%28%0A%20%20%20%20%20%20%20%20%20%20%20%20%5B37.582158695611945%2C%20126.88855036205791%5D%2C%0A%20%20%20%20%20%20%20%20%20%20%20%20%7B%0A%20%20%20%20%20%20%20%20%20%20%20%20%20%20%20%20icon%3A%20new%20L.Icon.Default%28%29%2C%0A%20%20%20%20%20%20%20%20%20%20%20%20%20%20%20%20%7D%0A%20%20%20%20%20%20%20%20%20%20%20%20%29.addTo%28map_227436eb9be2425fb0179a53b25b0483%29%3B%0A%20%20%20%20%20%20%20%20%0A%20%20%20%20%0A%20%20%20%20%20%20%20%20marker_c7e44fbac57c4bfd9e704d28e65c0c18.bindTooltip%28%0A%20%20%20%20%20%20%20%20%20%20%20%20%60%3Cdiv%3E%60%0A%20%20%20%20%20%20%20%20%20%20%20%20%2B%20%60%EC%A3%BC%EC%86%8C%20%EC%A0%95%EB%B3%B4%EA%B0%80%20%EC%97%86%EC%8A%B5%EB%8B%88%EB%8B%A4%60%20%2B%20%60%3C/div%3E%60%2C%0A%20%20%20%20%20%20%20%20%20%20%20%20%7B%22sticky%22%3A%20true%7D%0A%20%20%20%20%20%20%20%20%29%3B%0A%20%20%20%20%20%20%20%20%0A%20%20%20%20%0A%20%20%20%20%20%20%20%20var%20marker_f8c25c84a3434f3b9b3968d1576f37e0%20%3D%20L.marker%28%0A%20%20%20%20%20%20%20%20%20%20%20%20%5B37.65228138774415%2C%20127.15760925020882%5D%2C%0A%20%20%20%20%20%20%20%20%20%20%20%20%7B%0A%20%20%20%20%20%20%20%20%20%20%20%20%20%20%20%20icon%3A%20new%20L.Icon.Default%28%29%2C%0A%20%20%20%20%20%20%20%20%20%20%20%20%20%20%20%20%7D%0A%20%20%20%20%20%20%20%20%20%20%20%20%29.addTo%28map_227436eb9be2425fb0179a53b25b0483%29%3B%0A%20%20%20%20%20%20%20%20%0A%20%20%20%20%0A%20%20%20%20%20%20%20%20marker_f8c25c84a3434f3b9b3968d1576f37e0.bindTooltip%28%0A%20%20%20%20%20%20%20%20%20%20%20%20%60%3Cdiv%3E%60%0A%20%20%20%20%20%20%20%20%20%20%20%20%2B%20%60%EC%A3%BC%EC%86%8C%20%EC%A0%95%EB%B3%B4%EA%B0%80%20%EC%97%86%EC%8A%B5%EB%8B%88%EB%8B%A4%60%20%2B%20%60%3C/div%3E%60%2C%0A%20%20%20%20%20%20%20%20%20%20%20%20%7B%22sticky%22%3A%20true%7D%0A%20%20%20%20%20%20%20%20%29%3B%0A%20%20%20%20%20%20%20%20%0A%20%20%20%20%0A%20%20%20%20%20%20%20%20var%20marker_cc2a2979befd4f4aa4618399a901b6a3%20%3D%20L.marker%28%0A%20%20%20%20%20%20%20%20%20%20%20%20%5B37.592570456372165%2C%20127.02363940770947%5D%2C%0A%20%20%20%20%20%20%20%20%20%20%20%20%7B%0A%20%20%20%20%20%20%20%20%20%20%20%20%20%20%20%20icon%3A%20new%20L.Icon.Default%28%29%2C%0A%20%20%20%20%20%20%20%20%20%20%20%20%20%20%20%20%7D%0A%20%20%20%20%20%20%20%20%20%20%20%20%29.addTo%28map_227436eb9be2425fb0179a53b25b0483%29%3B%0A%20%20%20%20%20%20%20%20%0A%20%20%20%20%0A%20%20%20%20%20%20%20%20marker_cc2a2979befd4f4aa4618399a901b6a3.bindTooltip%28%0A%20%20%20%20%20%20%20%20%20%20%20%20%60%3Cdiv%3E%60%0A%20%20%20%20%20%20%20%20%20%20%20%20%2B%20%60%EC%84%9C%EC%9A%B8%ED%8A%B9%EB%B3%84%EC%8B%9C%20%EC%84%B1%EB%B6%81%EA%B5%AC%20%EB%8F%99%EC%86%8C%EB%AC%B8%EB%A1%9C26%EA%B0%80%EA%B8%B8%20109%20%60%20%2B%20%60%3C/div%3E%60%2C%0A%20%20%20%20%20%20%20%20%20%20%20%20%7B%22sticky%22%3A%20true%7D%0A%20%20%20%20%20%20%20%20%29%3B%0A%20%20%20%20%20%20%20%20%0A%3C/script%3E onload=\"this.contentDocument.open();this.contentDocument.write(    decodeURIComponent(this.getAttribute('data-html')));this.contentDocument.close();\" allowfullscreen webkitallowfullscreen mozallowfullscreen></iframe></div></div>"
            ],
            "text/plain": [
              "<folium.folium.Map at 0x7f277d3cca90>"
            ]
          },
          "metadata": {},
          "execution_count": 331
        }
      ]
    },
    {
      "cell_type": "code",
      "source": [
        "'image_3.png'.split(\"_\")[1][0]"
      ],
      "metadata": {
        "colab": {
          "base_uri": "https://localhost:8080/",
          "height": 35
        },
        "id": "dq5y4HmWtC4M",
        "outputId": "733d1a8a-a0f3-43bf-8f1e-53e1167e3184"
      },
      "execution_count": 67,
      "outputs": [
        {
          "output_type": "execute_result",
          "data": {
            "application/vnd.google.colaboratory.intrinsic+json": {
              "type": "string"
            },
            "text/plain": [
              "'3'"
            ]
          },
          "metadata": {},
          "execution_count": 67
        }
      ]
    }
  ]
}